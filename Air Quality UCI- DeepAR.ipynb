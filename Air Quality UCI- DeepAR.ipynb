{
 "cells": [
  {
   "cell_type": "markdown",
   "metadata": {},
   "source": [
    "# AIR QUALITY"
   ]
  },
  {
   "cell_type": "code",
   "execution_count": 4,
   "metadata": {},
   "outputs": [],
   "source": [
    "#establish connection\n",
    "import os\n",
    "import re\n",
    "from sagemaker import get_execution_role\n",
    "\n",
    "#define iam rle\n",
    "\n",
    "role = get_execution_role()"
   ]
  },
  {
   "cell_type": "markdown",
   "metadata": {},
   "source": [
    "## SET S3 BUCKET & UPLOAD LOCATION"
   ]
  },
  {
   "cell_type": "code",
   "execution_count": 5,
   "metadata": {},
   "outputs": [],
   "source": [
    "#specify role and bucket\n",
    "bucket = 'testing-lambda99'# s3 bucket where you will copy data and model artifacts\n",
    "prefix = 'mra/air-quality' # place to upload training files within the bucket\n",
    "\n",
    "sagemaker_session = sagemaker.Session()\n",
    "role = get_execution_role()\n",
    "\n",
    "s3_data_path = \"{}/{}/data\".format(bucket, prefix)\n",
    "s3_output_path = \"{}/{}/output\".format(bucket, prefix)"
   ]
  },
  {
   "cell_type": "code",
   "execution_count": 8,
   "metadata": {},
   "outputs": [],
   "source": [
    "#import libraries\n",
    "import pandas as pd\n",
    "import numpy as np\n",
    "import matplotlib.pyplot as plt\n",
    "import time\n",
    "import json\n",
    "import sagemaker\n",
    "import sagemaker.amazon.common as smac\n",
    "import boto3\n",
    "\n",
    "import warnings\n",
    "warnings.filterwarnings(\"ignore\")"
   ]
  },
  {
   "cell_type": "markdown",
   "metadata": {},
   "source": [
    "### SET CONTAINER IMAGE"
   ]
  },
  {
   "cell_type": "code",
   "execution_count": 9,
   "metadata": {},
   "outputs": [],
   "source": [
    "from sagemaker.amazon.amazon_estimator import get_image_uri\n",
    "image_name = get_image_uri(boto3.Session().region_name, 'forecasting-deepar')"
   ]
  },
  {
   "cell_type": "markdown",
   "metadata": {},
   "source": [
    "## DATA DESCRIPTION "
   ]
  },
  {
   "cell_type": "markdown",
   "metadata": {},
   "source": [
    "### Data Set Information:\n",
    "\n",
    "#### The dataset contains 9358 instances of hourly averaged responses from an array of 5 metal oxide chemical sensors embedded in an Air Quality Chemical Multisensor Device. The device was located on the field in a significantly polluted area, at road level,within an Italian city. Data were recorded from March 2004 to February 2005 (one year)representing the longest freely available recordings of on field deployed air quality chemical sensor devices responses. Ground Truth hourly averaged concentrations for CO, Non Metanic Hydrocarbons, Benzene, Total Nitrogen Oxides (NOx) and Nitrogen Dioxide (NO2) and were provided by a co-located reference certified analyzer. Evidences of cross-sensitivities as well as both concept and sensor drifts are present as described in De Vito et al., Sens. And Act. B, Vol. 129,2,2008 (citation required) eventually affecting sensors concentration estimation capabilities. Missing values are tagged with -200 value. \n",
    "\n",
    "#### This dataset can be used exclusively for research purposes. Commercial purposes are fully excluded. \n",
    "\n",
    "#### Attribute Information:\n",
    "\n",
    "#### 0 Date\t(DD/MM/YYYY) \n",
    "#### 1 Time\t(HH.MM.SS) \n",
    "#### 2 True hourly averaged concentration CO in mg/m^3 (reference analyzer) \n",
    "#### 3 PT08.S1 (tin oxide) hourly averaged sensor response (nominally CO targeted)\t\n",
    "#### 4 True hourly averaged overall Non Metanic HydroCarbons concentration in microg/m^3 (reference analyzer) \n",
    "#### 5 True hourly averaged Benzene concentration in microg/m^3 (reference analyzer) \n",
    "#### 6 PT08.S2 (titania) hourly averaged sensor response (nominally NMHC targeted)\t\n",
    "#### 7 True hourly averaged NOx concentration in ppb (reference analyzer) \n",
    "#### 8 PT08.S3 (tungsten oxide) hourly averaged sensor response (nominally NOx targeted) \n",
    "#### 9 True hourly averaged NO2 concentration in microg/m^3 (reference analyzer)\t\n",
    "#### 10 PT08.S4 (tungsten oxide) hourly averaged sensor response (nominally NO2 targeted)\t\n",
    "#### 11 PT08.S5 (indium oxide) hourly averaged sensor response (nominally O3 targeted) \n",
    "#### 12 Temperature in Â°C\t\n",
    "#### 13 Relative Humidity (%) \n",
    "#### 14 AH Absolute Humidity \n",
    "\n"
   ]
  },
  {
   "cell_type": "markdown",
   "metadata": {},
   "source": [
    "##  DATA INGESTION"
   ]
  },
  {
   "cell_type": "code",
   "execution_count": 10,
   "metadata": {},
   "outputs": [
    {
     "name": "stdout",
     "output_type": "stream",
     "text": [
      "Success: Data loaded into dataframe.\n"
     ]
    }
   ],
   "source": [
    "#download data file as csv\n",
    "import boto3\n",
    "import io\n",
    "\n",
    "s3 = boto3.client('s3')\n",
    "\n",
    "try:\n",
    "    obj = s3.get_object(Bucket=bucket, Key='AirQualityUCI.csv')\n",
    "    air = pd.read_csv(io.BytesIO(obj['Body'].read()),parse_dates=[['Date', 'Time']])\n",
    "    print('Success: Data loaded into dataframe.')\n",
    "    \n",
    "except Exception as e:\n",
    "    print('Data load error: ',e)"
   ]
  },
  {
   "cell_type": "code",
   "execution_count": 11,
   "metadata": {},
   "outputs": [],
   "source": [
    "#view for full screen\n",
    "pd.set_option('display.large_repr', 'truncate')\n",
    "pd.set_option('display.max_columns', 0)\n"
   ]
  },
  {
   "cell_type": "markdown",
   "metadata": {},
   "source": [
    "## DATA INSPECTION"
   ]
  },
  {
   "cell_type": "code",
   "execution_count": 12,
   "metadata": {},
   "outputs": [
    {
     "name": "stdout",
     "output_type": "stream",
     "text": [
      "Datapoints in data sest (9357, 14)\n"
     ]
    },
    {
     "data": {
      "text/plain": [
       "'Top 5 rows'"
      ]
     },
     "metadata": {},
     "output_type": "display_data"
    },
    {
     "data": {
      "text/html": [
       "<div>\n",
       "<style scoped>\n",
       "    .dataframe tbody tr th:only-of-type {\n",
       "        vertical-align: middle;\n",
       "    }\n",
       "\n",
       "    .dataframe tbody tr th {\n",
       "        vertical-align: top;\n",
       "    }\n",
       "\n",
       "    .dataframe thead th {\n",
       "        text-align: right;\n",
       "    }\n",
       "</style>\n",
       "<table border=\"1\" class=\"dataframe\">\n",
       "  <thead>\n",
       "    <tr style=\"text-align: right;\">\n",
       "      <th></th>\n",
       "      <th>Date_Time</th>\n",
       "      <th>CO(GT)</th>\n",
       "      <th>PT08.S1(CO)</th>\n",
       "      <th>NMHC(GT)</th>\n",
       "      <th>C6H6(GT)</th>\n",
       "      <th>PT08.S2(NMHC)</th>\n",
       "      <th>NOx(GT)</th>\n",
       "      <th>PT08.S3(NOx)</th>\n",
       "      <th>NO2(GT)</th>\n",
       "      <th>PT08.S4(NO2)</th>\n",
       "      <th>PT08.S5(O3)</th>\n",
       "      <th>T</th>\n",
       "      <th>RH</th>\n",
       "      <th>AH</th>\n",
       "    </tr>\n",
       "  </thead>\n",
       "  <tbody>\n",
       "    <tr>\n",
       "      <th>0</th>\n",
       "      <td>2004-03-10 18:00:00</td>\n",
       "      <td>2.6</td>\n",
       "      <td>1360</td>\n",
       "      <td>150</td>\n",
       "      <td>11.9</td>\n",
       "      <td>1046</td>\n",
       "      <td>166</td>\n",
       "      <td>1056</td>\n",
       "      <td>113</td>\n",
       "      <td>1692</td>\n",
       "      <td>1268</td>\n",
       "      <td>13.6</td>\n",
       "      <td>48.9</td>\n",
       "      <td>0.7578</td>\n",
       "    </tr>\n",
       "    <tr>\n",
       "      <th>1</th>\n",
       "      <td>2004-03-10 19:00:00</td>\n",
       "      <td>2.0</td>\n",
       "      <td>1292</td>\n",
       "      <td>112</td>\n",
       "      <td>9.4</td>\n",
       "      <td>955</td>\n",
       "      <td>103</td>\n",
       "      <td>1174</td>\n",
       "      <td>92</td>\n",
       "      <td>1559</td>\n",
       "      <td>972</td>\n",
       "      <td>13.3</td>\n",
       "      <td>47.7</td>\n",
       "      <td>0.7255</td>\n",
       "    </tr>\n",
       "    <tr>\n",
       "      <th>2</th>\n",
       "      <td>2004-03-10 20:00:00</td>\n",
       "      <td>2.2</td>\n",
       "      <td>1402</td>\n",
       "      <td>88</td>\n",
       "      <td>9.0</td>\n",
       "      <td>939</td>\n",
       "      <td>131</td>\n",
       "      <td>1140</td>\n",
       "      <td>114</td>\n",
       "      <td>1555</td>\n",
       "      <td>1074</td>\n",
       "      <td>11.9</td>\n",
       "      <td>54.0</td>\n",
       "      <td>0.7502</td>\n",
       "    </tr>\n",
       "    <tr>\n",
       "      <th>3</th>\n",
       "      <td>2004-03-10 21:00:00</td>\n",
       "      <td>2.2</td>\n",
       "      <td>1376</td>\n",
       "      <td>80</td>\n",
       "      <td>9.2</td>\n",
       "      <td>948</td>\n",
       "      <td>172</td>\n",
       "      <td>1092</td>\n",
       "      <td>122</td>\n",
       "      <td>1584</td>\n",
       "      <td>1203</td>\n",
       "      <td>11.0</td>\n",
       "      <td>60.0</td>\n",
       "      <td>0.7867</td>\n",
       "    </tr>\n",
       "    <tr>\n",
       "      <th>4</th>\n",
       "      <td>2004-03-10 22:00:00</td>\n",
       "      <td>1.6</td>\n",
       "      <td>1272</td>\n",
       "      <td>51</td>\n",
       "      <td>6.5</td>\n",
       "      <td>836</td>\n",
       "      <td>131</td>\n",
       "      <td>1205</td>\n",
       "      <td>116</td>\n",
       "      <td>1490</td>\n",
       "      <td>1110</td>\n",
       "      <td>11.2</td>\n",
       "      <td>59.6</td>\n",
       "      <td>0.7888</td>\n",
       "    </tr>\n",
       "  </tbody>\n",
       "</table>\n",
       "</div>"
      ],
      "text/plain": [
       "            Date_Time  CO(GT)  PT08.S1(CO)   ...       T    RH      AH\n",
       "0 2004-03-10 18:00:00     2.6         1360   ...    13.6  48.9  0.7578\n",
       "1 2004-03-10 19:00:00     2.0         1292   ...    13.3  47.7  0.7255\n",
       "2 2004-03-10 20:00:00     2.2         1402   ...    11.9  54.0  0.7502\n",
       "3 2004-03-10 21:00:00     2.2         1376   ...    11.0  60.0  0.7867\n",
       "4 2004-03-10 22:00:00     1.6         1272   ...    11.2  59.6  0.7888\n",
       "\n",
       "[5 rows x 14 columns]"
      ]
     },
     "metadata": {},
     "output_type": "display_data"
    }
   ],
   "source": [
    "# print the shape of the data file\n",
    "print(\"Datapoints in data sest\",air.shape)\n",
    "\n",
    "# show the top few rows\n",
    "display(\"Top 5 rows\",air.head())"
   ]
  },
  {
   "cell_type": "code",
   "execution_count": 13,
   "metadata": {},
   "outputs": [
    {
     "data": {
      "text/html": [
       "<div>\n",
       "<style scoped>\n",
       "    .dataframe tbody tr th:only-of-type {\n",
       "        vertical-align: middle;\n",
       "    }\n",
       "\n",
       "    .dataframe tbody tr th {\n",
       "        vertical-align: top;\n",
       "    }\n",
       "\n",
       "    .dataframe thead th {\n",
       "        text-align: right;\n",
       "    }\n",
       "</style>\n",
       "<table border=\"1\" class=\"dataframe\">\n",
       "  <thead>\n",
       "    <tr style=\"text-align: right;\">\n",
       "      <th></th>\n",
       "      <th>CO(GT)</th>\n",
       "      <th>PT08.S1(CO)</th>\n",
       "      <th>NMHC(GT)</th>\n",
       "      <th>C6H6(GT)</th>\n",
       "      <th>PT08.S2(NMHC)</th>\n",
       "      <th>NOx(GT)</th>\n",
       "      <th>PT08.S3(NOx)</th>\n",
       "      <th>NO2(GT)</th>\n",
       "      <th>PT08.S4(NO2)</th>\n",
       "      <th>PT08.S5(O3)</th>\n",
       "      <th>T</th>\n",
       "      <th>RH</th>\n",
       "      <th>AH</th>\n",
       "    </tr>\n",
       "    <tr>\n",
       "      <th>Date_Time</th>\n",
       "      <th></th>\n",
       "      <th></th>\n",
       "      <th></th>\n",
       "      <th></th>\n",
       "      <th></th>\n",
       "      <th></th>\n",
       "      <th></th>\n",
       "      <th></th>\n",
       "      <th></th>\n",
       "      <th></th>\n",
       "      <th></th>\n",
       "      <th></th>\n",
       "      <th></th>\n",
       "    </tr>\n",
       "  </thead>\n",
       "  <tbody>\n",
       "    <tr>\n",
       "      <th>2004-03-10 18:00:00</th>\n",
       "      <td>2.6</td>\n",
       "      <td>1360</td>\n",
       "      <td>150</td>\n",
       "      <td>11.9</td>\n",
       "      <td>1046</td>\n",
       "      <td>166</td>\n",
       "      <td>1056</td>\n",
       "      <td>113</td>\n",
       "      <td>1692</td>\n",
       "      <td>1268</td>\n",
       "      <td>13.6</td>\n",
       "      <td>48.9</td>\n",
       "      <td>0.7578</td>\n",
       "    </tr>\n",
       "    <tr>\n",
       "      <th>2004-03-10 19:00:00</th>\n",
       "      <td>2.0</td>\n",
       "      <td>1292</td>\n",
       "      <td>112</td>\n",
       "      <td>9.4</td>\n",
       "      <td>955</td>\n",
       "      <td>103</td>\n",
       "      <td>1174</td>\n",
       "      <td>92</td>\n",
       "      <td>1559</td>\n",
       "      <td>972</td>\n",
       "      <td>13.3</td>\n",
       "      <td>47.7</td>\n",
       "      <td>0.7255</td>\n",
       "    </tr>\n",
       "    <tr>\n",
       "      <th>2004-03-10 20:00:00</th>\n",
       "      <td>2.2</td>\n",
       "      <td>1402</td>\n",
       "      <td>88</td>\n",
       "      <td>9.0</td>\n",
       "      <td>939</td>\n",
       "      <td>131</td>\n",
       "      <td>1140</td>\n",
       "      <td>114</td>\n",
       "      <td>1555</td>\n",
       "      <td>1074</td>\n",
       "      <td>11.9</td>\n",
       "      <td>54.0</td>\n",
       "      <td>0.7502</td>\n",
       "    </tr>\n",
       "    <tr>\n",
       "      <th>2004-03-10 21:00:00</th>\n",
       "      <td>2.2</td>\n",
       "      <td>1376</td>\n",
       "      <td>80</td>\n",
       "      <td>9.2</td>\n",
       "      <td>948</td>\n",
       "      <td>172</td>\n",
       "      <td>1092</td>\n",
       "      <td>122</td>\n",
       "      <td>1584</td>\n",
       "      <td>1203</td>\n",
       "      <td>11.0</td>\n",
       "      <td>60.0</td>\n",
       "      <td>0.7867</td>\n",
       "    </tr>\n",
       "    <tr>\n",
       "      <th>2004-03-10 22:00:00</th>\n",
       "      <td>1.6</td>\n",
       "      <td>1272</td>\n",
       "      <td>51</td>\n",
       "      <td>6.5</td>\n",
       "      <td>836</td>\n",
       "      <td>131</td>\n",
       "      <td>1205</td>\n",
       "      <td>116</td>\n",
       "      <td>1490</td>\n",
       "      <td>1110</td>\n",
       "      <td>11.2</td>\n",
       "      <td>59.6</td>\n",
       "      <td>0.7888</td>\n",
       "    </tr>\n",
       "  </tbody>\n",
       "</table>\n",
       "</div>"
      ],
      "text/plain": [
       "                     CO(GT)  PT08.S1(CO)  NMHC(GT)   ...       T    RH      AH\n",
       "Date_Time                                            ...                      \n",
       "2004-03-10 18:00:00     2.6         1360       150   ...    13.6  48.9  0.7578\n",
       "2004-03-10 19:00:00     2.0         1292       112   ...    13.3  47.7  0.7255\n",
       "2004-03-10 20:00:00     2.2         1402        88   ...    11.9  54.0  0.7502\n",
       "2004-03-10 21:00:00     2.2         1376        80   ...    11.0  60.0  0.7867\n",
       "2004-03-10 22:00:00     1.6         1272        51   ...    11.2  59.6  0.7888\n",
       "\n",
       "[5 rows x 13 columns]"
      ]
     },
     "execution_count": 13,
     "metadata": {},
     "output_type": "execute_result"
    }
   ],
   "source": [
    "# Set Date time as Index\n",
    "air.set_index('Date_Time', inplace=True)\n",
    "air.head()"
   ]
  },
  {
   "cell_type": "code",
   "execution_count": 14,
   "metadata": {},
   "outputs": [
    {
     "data": {
      "text/html": [
       "<div>\n",
       "<style scoped>\n",
       "    .dataframe tbody tr th:only-of-type {\n",
       "        vertical-align: middle;\n",
       "    }\n",
       "\n",
       "    .dataframe tbody tr th {\n",
       "        vertical-align: top;\n",
       "    }\n",
       "\n",
       "    .dataframe thead th {\n",
       "        text-align: right;\n",
       "    }\n",
       "</style>\n",
       "<table border=\"1\" class=\"dataframe\">\n",
       "  <thead>\n",
       "    <tr style=\"text-align: right;\">\n",
       "      <th></th>\n",
       "      <th>Temparature</th>\n",
       "    </tr>\n",
       "    <tr>\n",
       "      <th>Date_Time</th>\n",
       "      <th></th>\n",
       "    </tr>\n",
       "  </thead>\n",
       "  <tbody>\n",
       "    <tr>\n",
       "      <th>2004-03-10 18:00:00</th>\n",
       "      <td>13.6</td>\n",
       "    </tr>\n",
       "    <tr>\n",
       "      <th>2004-03-10 19:00:00</th>\n",
       "      <td>13.3</td>\n",
       "    </tr>\n",
       "    <tr>\n",
       "      <th>2004-03-10 20:00:00</th>\n",
       "      <td>11.9</td>\n",
       "    </tr>\n",
       "    <tr>\n",
       "      <th>2004-03-10 21:00:00</th>\n",
       "      <td>11.0</td>\n",
       "    </tr>\n",
       "    <tr>\n",
       "      <th>2004-03-10 22:00:00</th>\n",
       "      <td>11.2</td>\n",
       "    </tr>\n",
       "  </tbody>\n",
       "</table>\n",
       "</div>"
      ],
      "text/plain": [
       "                     Temparature\n",
       "Date_Time                       \n",
       "2004-03-10 18:00:00         13.6\n",
       "2004-03-10 19:00:00         13.3\n",
       "2004-03-10 20:00:00         11.9\n",
       "2004-03-10 21:00:00         11.0\n",
       "2004-03-10 22:00:00         11.2"
      ]
     },
     "execution_count": 14,
     "metadata": {},
     "output_type": "execute_result"
    }
   ],
   "source": [
    "air = air.loc[:,['T']]\n",
    "air.rename(columns={'T': 'Temparature'}, inplace=True)\n",
    "air.columns\n",
    "air.head()"
   ]
  },
  {
   "cell_type": "code",
   "execution_count": 15,
   "metadata": {},
   "outputs": [
    {
     "name": "stdout",
     "output_type": "stream",
     "text": [
      "\n",
      "Data Information\n",
      "\n",
      "<class 'pandas.core.frame.DataFrame'>\n",
      "DatetimeIndex: 9357 entries, 2004-03-10 18:00:00 to 2005-04-04 14:00:00\n",
      "Data columns (total 1 columns):\n",
      "Temparature    9357 non-null float64\n",
      "dtypes: float64(1)\n",
      "memory usage: 146.2 KB\n"
     ]
    }
   ],
   "source": [
    "#nformation of the data\n",
    "print('\\nData Information\\n')\n",
    "air.info()"
   ]
  },
  {
   "cell_type": "code",
   "execution_count": 16,
   "metadata": {},
   "outputs": [
    {
     "data": {
      "text/plain": [
       "'Statistical Description of data'"
      ]
     },
     "metadata": {},
     "output_type": "display_data"
    },
    {
     "data": {
      "text/html": [
       "<div>\n",
       "<style scoped>\n",
       "    .dataframe tbody tr th:only-of-type {\n",
       "        vertical-align: middle;\n",
       "    }\n",
       "\n",
       "    .dataframe tbody tr th {\n",
       "        vertical-align: top;\n",
       "    }\n",
       "\n",
       "    .dataframe thead th {\n",
       "        text-align: right;\n",
       "    }\n",
       "</style>\n",
       "<table border=\"1\" class=\"dataframe\">\n",
       "  <thead>\n",
       "    <tr style=\"text-align: right;\">\n",
       "      <th></th>\n",
       "      <th>Temparature</th>\n",
       "    </tr>\n",
       "  </thead>\n",
       "  <tbody>\n",
       "    <tr>\n",
       "      <th>count</th>\n",
       "      <td>9357.000000</td>\n",
       "    </tr>\n",
       "    <tr>\n",
       "      <th>mean</th>\n",
       "      <td>9.778305</td>\n",
       "    </tr>\n",
       "    <tr>\n",
       "      <th>std</th>\n",
       "      <td>43.203623</td>\n",
       "    </tr>\n",
       "    <tr>\n",
       "      <th>min</th>\n",
       "      <td>-200.000000</td>\n",
       "    </tr>\n",
       "    <tr>\n",
       "      <th>25%</th>\n",
       "      <td>10.900000</td>\n",
       "    </tr>\n",
       "    <tr>\n",
       "      <th>50%</th>\n",
       "      <td>17.200000</td>\n",
       "    </tr>\n",
       "    <tr>\n",
       "      <th>75%</th>\n",
       "      <td>24.100000</td>\n",
       "    </tr>\n",
       "    <tr>\n",
       "      <th>max</th>\n",
       "      <td>44.600000</td>\n",
       "    </tr>\n",
       "  </tbody>\n",
       "</table>\n",
       "</div>"
      ],
      "text/plain": [
       "       Temparature\n",
       "count  9357.000000\n",
       "mean      9.778305\n",
       "std      43.203623\n",
       "min    -200.000000\n",
       "25%      10.900000\n",
       "50%      17.200000\n",
       "75%      24.100000\n",
       "max      44.600000"
      ]
     },
     "metadata": {},
     "output_type": "display_data"
    }
   ],
   "source": [
    "# statistical description of the data object\n",
    "display(\"Statistical Description of data\",air.describe())"
   ]
  },
  {
   "cell_type": "code",
   "execution_count": 17,
   "metadata": {},
   "outputs": [
    {
     "data": {
      "image/png": "[encoded data removed]",
      "text/plain": [
       "<Figure size 360x360 with 1 Axes>"
      ]
     },
     "metadata": {},
     "output_type": "display_data"
    }
   ],
   "source": [
    "pd.plotting.scatter_matrix(air,figsize=(5, 5))\n",
    "plt.show()\n",
    "\n",
    "#Plot shows that there are some data points with temparature of -200 degrees which is not practically possible.\n",
    "#Deleting these values"
   ]
  },
  {
   "cell_type": "code",
   "execution_count": 18,
   "metadata": {},
   "outputs": [
    {
     "name": "stdout",
     "output_type": "stream",
     "text": [
      "Percentage missing data in each column \n",
      " Temparature    366\n",
      "dtype: int64\n"
     ]
    }
   ],
   "source": [
    "#Replace -200 values with mean of the value for Tempaature\n",
    "air = air.replace(-200, np.nan)\n",
    "print(\"Percentage missing data in each column \\n\",pd.isnull(air).sum())"
   ]
  },
  {
   "cell_type": "code",
   "execution_count": 19,
   "metadata": {},
   "outputs": [
    {
     "name": "stdout",
     "output_type": "stream",
     "text": [
      "Mean values to be imputed with: Temparature    18.317829\n",
      "dtype: float64\n",
      "\n",
      "Percent missing data Temparature    0\n",
      "dtype: int64\n"
     ]
    }
   ],
   "source": [
    "#replace Null values with Mean\n",
    "\n",
    "# Mean value of each column\n",
    "print(\"Mean values to be imputed with:\",air.mean())\n",
    "\n",
    "# Use Mean as imputation method for remaining missing data\n",
    "air = air.fillna(air.mean())\n",
    "print(\"\\nPercent missing data\",pd.isnull(air).sum())"
   ]
  },
  {
   "cell_type": "code",
   "execution_count": null,
   "metadata": {},
   "outputs": [],
   "source": []
  },
  {
   "cell_type": "code",
   "execution_count": null,
   "metadata": {},
   "outputs": [],
   "source": []
  },
  {
   "cell_type": "markdown",
   "metadata": {},
   "source": [
    "## DATA VISUALIZATION"
   ]
  },
  {
   "cell_type": "code",
   "execution_count": 20,
   "metadata": {},
   "outputs": [
    {
     "data": {
      "image/png": "[encoded data removed]",
      "text/plain": [
       "<Figure size 360x360 with 1 Axes>"
      ]
     },
     "metadata": {},
     "output_type": "display_data"
    }
   ],
   "source": [
    "hist = air.hist(bins='auto',  figsize=(5, 5))"
   ]
  },
  {
   "cell_type": "code",
   "execution_count": 21,
   "metadata": {},
   "outputs": [
    {
     "data": {
      "image/png": "[encoded data removed]",
      "text/plain": [
       "<Figure size 360x360 with 1 Axes>"
      ]
     },
     "metadata": {},
     "output_type": "display_data"
    }
   ],
   "source": [
    "pd.plotting.scatter_matrix(air,figsize=(5, 5))\n",
    "plt.show()"
   ]
  },
  {
   "cell_type": "code",
   "execution_count": 22,
   "metadata": {},
   "outputs": [
    {
     "data": {
      "image/png": "[encoded data removed]",
      "text/plain": [
       "<Figure size 432x288 with 1 Axes>"
      ]
     },
     "metadata": {},
     "output_type": "display_data"
    }
   ],
   "source": [
    "# PLot of TimeSeries\n",
    "air.plot()\n",
    "plt.xlabel(\"Time Period\")\n",
    "plt.ylabel(\"Temparature\")\n",
    "plt.title(\"TimeSeries of Temparature\")\n",
    "plt.show()"
   ]
  },
  {
   "cell_type": "code",
   "execution_count": 23,
   "metadata": {},
   "outputs": [
    {
     "data": {
      "text/plain": [
       "DatetimeIndex(['2004-03-10 18:00:00', '2004-03-10 19:00:00',\n",
       "               '2004-03-10 20:00:00', '2004-03-10 21:00:00',\n",
       "               '2004-03-10 22:00:00', '2004-03-10 23:00:00',\n",
       "               '2004-03-11 00:00:00', '2004-03-11 01:00:00',\n",
       "               '2004-03-11 02:00:00', '2004-03-11 03:00:00',\n",
       "               ...\n",
       "               '2005-04-04 05:00:00', '2005-04-04 06:00:00',\n",
       "               '2005-04-04 07:00:00', '2005-04-04 08:00:00',\n",
       "               '2005-04-04 09:00:00', '2005-04-04 10:00:00',\n",
       "               '2005-04-04 11:00:00', '2005-04-04 12:00:00',\n",
       "               '2005-04-04 13:00:00', '2005-04-04 14:00:00'],\n",
       "              dtype='datetime64[ns]', name='Date_Time', length=9357, freq=None)"
      ]
     },
     "execution_count": 23,
     "metadata": {},
     "output_type": "execute_result"
    }
   ],
   "source": [
    "# Check frequency of Index\n",
    "air.index"
   ]
  },
  {
   "cell_type": "code",
   "execution_count": 24,
   "metadata": {},
   "outputs": [
    {
     "data": {
      "text/plain": [
       "DatetimeIndex(['2004-03-10 18:00:00', '2004-03-10 19:00:00',\n",
       "               '2004-03-10 20:00:00', '2004-03-10 21:00:00',\n",
       "               '2004-03-10 22:00:00', '2004-03-10 23:00:00',\n",
       "               '2004-03-11 00:00:00', '2004-03-11 01:00:00',\n",
       "               '2004-03-11 02:00:00', '2004-03-11 03:00:00',\n",
       "               ...\n",
       "               '2005-04-04 05:00:00', '2005-04-04 06:00:00',\n",
       "               '2005-04-04 07:00:00', '2005-04-04 08:00:00',\n",
       "               '2005-04-04 09:00:00', '2005-04-04 10:00:00',\n",
       "               '2005-04-04 11:00:00', '2005-04-04 12:00:00',\n",
       "               '2005-04-04 13:00:00', '2005-04-04 14:00:00'],\n",
       "              dtype='datetime64[ns]', name='Date_Time', length=9357, freq='H')"
      ]
     },
     "execution_count": 24,
     "metadata": {},
     "output_type": "execute_result"
    }
   ],
   "source": [
    "# As freq is None, set freq to hourly\n",
    "air = air.asfreq('H')\n",
    "air.index"
   ]
  },
  {
   "cell_type": "markdown",
   "metadata": {},
   "source": [
    "### INTIALIZE VALUES FOR PREDICTION"
   ]
  },
  {
   "cell_type": "code",
   "execution_count": 26,
   "metadata": {},
   "outputs": [],
   "source": [
    "# TimeSeries Requirement Assisnment\n",
    "\n",
    "# Daily Granularity for TimeSeries\n",
    "freq = 'H'\n",
    "\n",
    "# Number of days in future to be predicted\n",
    "prediction_length = 30\n",
    "\n",
    "# Number of previous points to be considered before making prediction\n",
    "context_length = 100"
   ]
  },
  {
   "cell_type": "code",
   "execution_count": 27,
   "metadata": {},
   "outputs": [
    {
     "data": {
      "text/plain": [
       "100"
      ]
     },
     "execution_count": 27,
     "metadata": {},
     "output_type": "execute_result"
    }
   ],
   "source": [
    "context_length"
   ]
  },
  {
   "cell_type": "markdown",
   "metadata": {},
   "source": [
    "## CONVERT INTO TIME SERIES"
   ]
  },
  {
   "cell_type": "code",
   "execution_count": 28,
   "metadata": {},
   "outputs": [],
   "source": [
    "#Convert dataframe to series\n",
    "\n",
    "timeseries = []\n",
    "\n",
    "for i in (range(air.shape[1])):\n",
    "    timeseries.append(np.trim_zeros(air.iloc[:,i], trim='f'))"
   ]
  },
  {
   "cell_type": "markdown",
   "metadata": {},
   "source": [
    "## TEST TRAIN SPLIT"
   ]
  },
  {
   "cell_type": "code",
   "execution_count": 29,
   "metadata": {},
   "outputs": [],
   "source": [
    "# training set - all datapoints upto number of points to be predicted(set as prediction length)\n",
    "# test set - entire dataset\n",
    "\n",
    "time_series_training = []\n",
    "\n",
    "for ts in timeseries:\n",
    "    time_series_training.append(ts[:-prediction_length])"
   ]
  },
  {
   "cell_type": "code",
   "execution_count": 30,
   "metadata": {},
   "outputs": [
    {
     "data": {
      "image/png": "[encoded data removed]",
      "text/plain": [
       "<Figure size 432x288 with 1 Axes>"
      ]
     },
     "metadata": {},
     "output_type": "display_data"
    }
   ],
   "source": [
    "# plot of training set vs test Set\n",
    "timeseries[0].plot(label='test')\n",
    "time_series_training[0].plot(label='train', ls=':')\n",
    "plt.xlabel(\"Date\")\n",
    "plt.ylabel(\"Acutal Fit\")\n",
    "plt.legend()\n",
    "plt.show()"
   ]
  },
  {
   "cell_type": "markdown",
   "metadata": {},
   "source": [
    "## DATA INTO JSON FOR DeepAR"
   ]
  },
  {
   "cell_type": "code",
   "execution_count": 31,
   "metadata": {},
   "outputs": [],
   "source": [
    "# Convert data set into JSON format accpetable by DeepAR\n",
    "# each time series just consists of a start time stamp (start) and a list of values (target)\n",
    "def series_to_obj(ts, cat=None):\n",
    "    obj = {\"start\": str(ts.index[0]), \"target\": list(ts)}\n",
    "    if cat is not None:\n",
    "        obj[\"cat\"] = cat\n",
    "    return obj\n",
    "\n",
    "# Convert dataset into JSON\n",
    "def series_to_jsonline(ts, cat=None):\n",
    "    return json.dumps(series_to_obj(ts, cat))"
   ]
  },
  {
   "cell_type": "code",
   "execution_count": 32,
   "metadata": {},
   "outputs": [],
   "source": [
    "# Write JSON formats into S3 buckets\n",
    "import s3fs\n",
    "\n",
    "encoding = \"utf-8\"\n",
    "s3filesystem = s3fs.S3FileSystem()\n",
    "\n",
    "# For train Set\n",
    "with s3filesystem.open(s3_data_path + \"/train/train.json\", 'wb') as fp:\n",
    "    for ts in time_series_training:\n",
    "        fp.write(series_to_jsonline(ts).encode(encoding))\n",
    "        fp.write('\\n'.encode(encoding))\n",
    "\n",
    "# For test set\n",
    "with s3filesystem.open(s3_data_path + \"/test/test.json\", 'wb') as fp:\n",
    "    for ts in timeseries:\n",
    "        fp.write(series_to_jsonline(ts).encode(encoding))\n",
    "        fp.write('\\n'.encode(encoding))"
   ]
  },
  {
   "cell_type": "markdown",
   "metadata": {},
   "source": [
    "## TRAIN DeepAR MODEL\n"
   ]
  },
  {
   "cell_type": "code",
   "execution_count": 33,
   "metadata": {},
   "outputs": [],
   "source": [
    "# Configure training job\n",
    "estimator = sagemaker.estimator.Estimator(\n",
    "    sagemaker_session=sagemaker_session,\n",
    "    image_name=image_name,\n",
    "    role=role,\n",
    "    train_instance_count=1,\n",
    "    train_instance_type='ml.c4.xlarge',\n",
    "    base_job_name='Temprature-deepar',\n",
    "    output_path=\"s3://\" + s3_output_path\n",
    ")"
   ]
  },
  {
   "cell_type": "code",
   "execution_count": 34,
   "metadata": {},
   "outputs": [],
   "source": [
    "# Set Hyperparameters for model\n",
    "hyperparameters = {\n",
    "    \"time_freq\": freq,\n",
    "    \"context_length\": str(context_length),\n",
    "    \"prediction_length\": str(prediction_length),\n",
    "    \"num_cells\": \"40\",\n",
    "    \"num_layers\": \"3\",\n",
    "    \"epochs\": \"20\",\n",
    "    \"mini_batch_size\": \"32\",\n",
    "    \"learning_rate\": \"0.001\",\n",
    "    \"dropout_rate\": \"0.05\",\n",
    "    \"early_stopping_patience\": \"10\"\n",
    "}"
   ]
  },
  {
   "cell_type": "code",
   "execution_count": 35,
   "metadata": {},
   "outputs": [],
   "source": [
    "estimator.set_hyperparameters(**hyperparameters)"
   ]
  },
  {
   "cell_type": "code",
   "execution_count": 36,
   "metadata": {},
   "outputs": [
    {
     "name": "stderr",
     "output_type": "stream",
     "text": [
      "INFO:sagemaker:Creating training-job with name: Temprature-deepar-2018-12-20-18-37-30-894\n"
     ]
    },
    {
     "name": "stdout",
     "output_type": "stream",
     "text": [
      "2018-12-20 18:37:31 Starting - Starting the training job...\n",
      "2018-12-20 18:37:34 Starting - Launching requested ML instances......\n",
      "2018-12-20 18:38:44 Starting - Preparing the instances for training......\n",
      "2018-12-20 18:39:57 Downloading - Downloading input data\n",
      "2018-12-20 18:39:57 Training - Downloading the training image....\n",
      "\u001b[31mArguments: train\u001b[0m\n",
      "\u001b[31m[12/20/2018 18:40:35 INFO 140298142705472] Reading default configuration from /opt/amazon/lib/python2.7/site-packages/algorithm/default-input.json: {u'num_dynamic_feat': u'auto', u'dropout_rate': u'0.10', u'mini_batch_size': u'128', u'test_quantiles': u'[0.1, 0.2, 0.3, 0.4, 0.5, 0.6, 0.7, 0.8, 0.9]', u'_tuning_objective_metric': u'', u'_num_gpus': u'auto', u'num_eval_samples': u'100', u'learning_rate': u'0.001', u'num_cells': u'40', u'num_layers': u'2', u'embedding_dimension': u'10', u'_kvstore': u'auto', u'_num_kv_servers': u'auto', u'cardinality': u'auto', u'likelihood': u'student-t', u'early_stopping_patience': u''}\u001b[0m\n",
      "\u001b[31m[12/20/2018 18:40:35 INFO 140298142705472] Reading provided configuration from /opt/ml/input/config/hyperparameters.json: {u'dropout_rate': u'0.05', u'learning_rate': u'0.001', u'num_cells': u'40', u'prediction_length': u'30', u'epochs': u'20', u'time_freq': u'H', u'context_length': u'100', u'num_layers': u'3', u'mini_batch_size': u'32', u'early_stopping_patience': u'10'}\u001b[0m\n",
      "\u001b[31m[12/20/2018 18:40:35 INFO 140298142705472] Final configuration: {u'dropout_rate': u'0.05', u'test_quantiles': u'[0.1, 0.2, 0.3, 0.4, 0.5, 0.6, 0.7, 0.8, 0.9]', u'_tuning_objective_metric': u'', u'num_eval_samples': u'100', u'learning_rate': u'0.001', u'num_layers': u'3', u'epochs': u'20', u'embedding_dimension': u'10', u'num_cells': u'40', u'_num_kv_servers': u'auto', u'mini_batch_size': u'32', u'likelihood': u'student-t', u'num_dynamic_feat': u'auto', u'cardinality': u'auto', u'_num_gpus': u'auto', u'prediction_length': u'30', u'time_freq': u'H', u'context_length': u'100', u'_kvstore': u'auto', u'early_stopping_patience': u'10'}\u001b[0m\n",
      "\u001b[31mProcess 1 is a worker.\u001b[0m\n",
      "\u001b[31m[12/20/2018 18:40:36 INFO 140298142705472] Detected entry point for worker worker\u001b[0m\n",
      "\u001b[31m[12/20/2018 18:40:36 INFO 140298142705472] Using early stopping with patience 10\u001b[0m\n",
      "\u001b[31m[12/20/2018 18:40:36 INFO 140298142705472] [cardinality=auto] `cat` field was NOT found in the file `/opt/ml/input/data/train/train.json` and will NOT be used for training.\u001b[0m\n",
      "\u001b[31m[12/20/2018 18:40:36 INFO 140298142705472] [num_dynamic_feat=auto] `dynamic_feat` field was NOT found in the file `/opt/ml/input/data/train/train.json` and will NOT be used for training.\u001b[0m\n",
      "\u001b[31m[12/20/2018 18:40:36 INFO 140298142705472] Training set statistics:\u001b[0m\n",
      "\u001b[31m[12/20/2018 18:40:36 INFO 140298142705472] Real time series\u001b[0m\n",
      "\u001b[31m[12/20/2018 18:40:36 INFO 140298142705472] number of time series: 1\u001b[0m\n",
      "\u001b[31m[12/20/2018 18:40:36 INFO 140298142705472] number of observations: 9327\u001b[0m\n",
      "\u001b[31m[12/20/2018 18:40:36 INFO 140298142705472] mean target length: 9327\u001b[0m\n",
      "\u001b[31m[12/20/2018 18:40:36 INFO 140298142705472] min/mean/max target: -1.89999997616/18.3128786051/44.5999984741\u001b[0m\n",
      "\u001b[31m[12/20/2018 18:40:36 INFO 140298142705472] mean abs(target): 18.3151502359\u001b[0m\n",
      "\u001b[31m[12/20/2018 18:40:36 INFO 140298142705472] contains missing values: no\u001b[0m\n",
      "\u001b[31m[12/20/2018 18:40:36 INFO 140298142705472] Small number of time series. Doing 10 number of passes over dataset per epoch.\u001b[0m\n",
      "\u001b[31m[12/20/2018 18:40:36 INFO 140298142705472] Test set statistics:\u001b[0m\n",
      "\u001b[31m[12/20/2018 18:40:36 INFO 140298142705472] Real time series\u001b[0m\n",
      "\u001b[31m[12/20/2018 18:40:36 INFO 140298142705472] number of time series: 1\u001b[0m\n",
      "\u001b[31m[12/20/2018 18:40:36 INFO 140298142705472] number of observations: 9357\u001b[0m\n",
      "\u001b[31m[12/20/2018 18:40:36 INFO 140298142705472] mean target length: 9357\u001b[0m\n",
      "\u001b[31m[12/20/2018 18:40:36 INFO 140298142705472] min/mean/max target: -1.89999997616/18.3178268943/44.5999984741\u001b[0m\n",
      "\u001b[31m[12/20/2018 18:40:36 INFO 140298142705472] mean abs(target): 18.3200929117\u001b[0m\n",
      "\u001b[31m[12/20/2018 18:40:36 INFO 140298142705472] contains missing values: no\u001b[0m\n",
      "\u001b[31m[12/20/2018 18:40:36 INFO 140298142705472] nvidia-smi took: 0.0251729488373 secs to identify 0 gpus\u001b[0m\n",
      "\u001b[31m[12/20/2018 18:40:36 INFO 140298142705472] Number of GPUs being used: 0\u001b[0m\n",
      "\u001b[31m[12/20/2018 18:40:36 INFO 140298142705472] Create Store: local\u001b[0m\n",
      "\u001b[31m#metrics {\"Metrics\": {\"get_graph.time\": {\"count\": 1, \"max\": 3750.3490447998047, \"sum\": 3750.3490447998047, \"min\": 3750.3490447998047}}, \"EndTime\": 1545331239.952772, \"Dimensions\": {\"Host\": \"algo-1\", \"Operation\": \"training\", \"Algorithm\": \"AWS/DeepAR\"}, \"StartTime\": 1545331236.201564}\n",
      "\u001b[0m\n",
      "\u001b[31m[12/20/2018 18:40:39 INFO 140298142705472] Number of GPUs being used: 0\u001b[0m\n",
      "\u001b[31m#metrics {\"Metrics\": {\"initialize.time\": {\"count\": 1, \"max\": 4450.264930725098, \"sum\": 4450.264930725098, \"min\": 4450.264930725098}}, \"EndTime\": 1545331240.651939, \"Dimensions\": {\"Host\": \"algo-1\", \"Operation\": \"training\", \"Algorithm\": \"AWS/DeepAR\"}, \"StartTime\": 1545331239.952901}\n",
      "\u001b[0m\n",
      "\u001b[31m[12/20/2018 18:40:41 INFO 140298142705472] Epoch[0] Batch[0] avg_epoch_loss=5.802801\u001b[0m\n",
      "\u001b[31m[12/20/2018 18:40:42 INFO 140298142705472] Epoch[0] Batch[5] avg_epoch_loss=4.439246\u001b[0m\n",
      "\u001b[31m[12/20/2018 18:40:42 INFO 140298142705472] Epoch[0] Batch [5]#011Speed: 190.63 samples/sec#011loss=4.439246\u001b[0m\n",
      "\u001b[31m[12/20/2018 18:40:42 INFO 140298142705472] processed a total of 296 examples\u001b[0m\n",
      "\u001b[31m#metrics {\"Metrics\": {\"epochs\": {\"count\": 1, \"max\": 20, \"sum\": 20.0, \"min\": 20}, \"update.time\": {\"count\": 1, \"max\": 2254.39715385437, \"sum\": 2254.39715385437, \"min\": 2254.39715385437}}, \"EndTime\": 1545331242.906473, \"Dimensions\": {\"Host\": \"algo-1\", \"Operation\": \"training\", \"Algorithm\": \"AWS/DeepAR\"}, \"StartTime\": 1545331240.651999}\n",
      "\u001b[0m\n",
      "\u001b[31m[12/20/2018 18:40:42 INFO 140298142705472] #throughput_metric: host=algo-1, train throughput=131.292155543 records/second\u001b[0m\n",
      "\u001b[31m[12/20/2018 18:40:42 INFO 140298142705472] #progress_metric: host=algo-1, completed 5 % of epochs\u001b[0m\n",
      "\u001b[31m[12/20/2018 18:40:42 INFO 140298142705472] best epoch loss so far\u001b[0m\n",
      "\u001b[31m[12/20/2018 18:40:42 INFO 140298142705472] Saved checkpoint to \"/opt/ml/model/state_b346a5f3-b5be-4967-b07a-d4892995f0ae-0000.params\"\u001b[0m\n",
      "\u001b[31m#metrics {\"Metrics\": {\"state.serialize.time\": {\"count\": 1, \"max\": 58.81381034851074, \"sum\": 58.81381034851074, \"min\": 58.81381034851074}}, \"EndTime\": 1545331242.965729, \"Dimensions\": {\"Host\": \"algo-1\", \"Operation\": \"training\", \"Algorithm\": \"AWS/DeepAR\"}, \"StartTime\": 1545331242.906553}\n",
      "\u001b[0m\n",
      "\u001b[31m[12/20/2018 18:40:43 INFO 140298142705472] Epoch[1] Batch[0] avg_epoch_loss=3.598475\u001b[0m\n",
      "\u001b[31m[12/20/2018 18:40:44 INFO 140298142705472] Epoch[1] Batch[5] avg_epoch_loss=3.496509\u001b[0m\n",
      "\u001b[31m[12/20/2018 18:40:44 INFO 140298142705472] Epoch[1] Batch [5]#011Speed: 165.26 samples/sec#011loss=3.496509\u001b[0m\n",
      "\u001b[31m[12/20/2018 18:40:45 INFO 140298142705472] processed a total of 307 examples\u001b[0m\n",
      "\u001b[31m#metrics {\"Metrics\": {\"update.time\": {\"count\": 1, \"max\": 2320.308208465576, \"sum\": 2320.308208465576, \"min\": 2320.308208465576}}, \"EndTime\": 1545331245.286153, \"Dimensions\": {\"Host\": \"algo-1\", \"Operation\": \"training\", \"Algorithm\": \"AWS/DeepAR\"}, \"StartTime\": 1545331242.965792}\n",
      "\u001b[0m\n",
      "\u001b[31m[12/20/2018 18:40:45 INFO 140298142705472] #throughput_metric: host=algo-1, train throughput=132.303755506 records/second\u001b[0m\n",
      "\u001b[31m[12/20/2018 18:40:45 INFO 140298142705472] #progress_metric: host=algo-1, completed 10 % of epochs\u001b[0m\n",
      "\u001b[31m[12/20/2018 18:40:45 INFO 140298142705472] best epoch loss so far\u001b[0m\n",
      "\u001b[31m[12/20/2018 18:40:45 INFO 140298142705472] Saved checkpoint to \"/opt/ml/model/state_9aaa6fe2-05ae-4aa3-aee4-2f4eb27f6deb-0000.params\"\u001b[0m\n",
      "\u001b[31m#metrics {\"Metrics\": {\"state.serialize.time\": {\"count\": 1, \"max\": 91.20988845825195, \"sum\": 91.20988845825195, \"min\": 91.20988845825195}}, \"EndTime\": 1545331245.378875, \"Dimensions\": {\"Host\": \"algo-1\", \"Operation\": \"training\", \"Algorithm\": \"AWS/DeepAR\"}, \"StartTime\": 1545331245.286226}\n",
      "\u001b[0m\n",
      "\u001b[31m[12/20/2018 18:40:45 INFO 140298142705472] Epoch[2] Batch[0] avg_epoch_loss=3.010684\u001b[0m\n",
      "\u001b[31m[12/20/2018 18:40:46 INFO 140298142705472] Epoch[2] Batch[5] avg_epoch_loss=3.000635\u001b[0m\n",
      "\u001b[31m[12/20/2018 18:40:46 INFO 140298142705472] Epoch[2] Batch [5]#011Speed: 187.96 samples/sec#011loss=3.000635\u001b[0m\n",
      "\u001b[31m[12/20/2018 18:40:47 INFO 140298142705472] processed a total of 279 examples\u001b[0m\n",
      "\u001b[31m#metrics {\"Metrics\": {\"update.time\": {\"count\": 1, \"max\": 1860.442876815796, \"sum\": 1860.442876815796, \"min\": 1860.442876815796}}, \"EndTime\": 1545331247.239461, \"Dimensions\": {\"Host\": \"algo-1\", \"Operation\": \"training\", \"Algorithm\": \"AWS/DeepAR\"}, \"StartTime\": 1545331245.378955}\n",
      "\u001b[0m\n",
      "\u001b[31m[12/20/2018 18:40:47 INFO 140298142705472] #throughput_metric: host=algo-1, train throughput=149.955491233 records/second\u001b[0m\n",
      "\u001b[31m[12/20/2018 18:40:47 INFO 140298142705472] #progress_metric: host=algo-1, completed 15 % of epochs\u001b[0m\n",
      "\u001b[31m[12/20/2018 18:40:47 INFO 140298142705472] best epoch loss so far\u001b[0m\n",
      "\u001b[31m[12/20/2018 18:40:47 INFO 140298142705472] Saved checkpoint to \"/opt/ml/model/state_774aa394-8989-4e33-93d8-b35846db7b68-0000.params\"\u001b[0m\n",
      "\u001b[31m#metrics {\"Metrics\": {\"state.serialize.time\": {\"count\": 1, \"max\": 54.557085037231445, \"sum\": 54.557085037231445, \"min\": 54.557085037231445}}, \"EndTime\": 1545331247.294538, \"Dimensions\": {\"Host\": \"algo-1\", \"Operation\": \"training\", \"Algorithm\": \"AWS/DeepAR\"}, \"StartTime\": 1545331247.239532}\n",
      "\u001b[0m\n",
      "\u001b[31m[12/20/2018 18:40:47 INFO 140298142705472] Epoch[3] Batch[0] avg_epoch_loss=2.969541\u001b[0m\n",
      "\u001b[31m[12/20/2018 18:40:48 INFO 140298142705472] Epoch[3] Batch[5] avg_epoch_loss=2.912026\u001b[0m\n",
      "\u001b[31m[12/20/2018 18:40:48 INFO 140298142705472] Epoch[3] Batch [5]#011Speed: 192.04 samples/sec#011loss=2.912026\u001b[0m\n",
      "\u001b[31m[12/20/2018 18:40:49 INFO 140298142705472] processed a total of 318 examples\u001b[0m\n",
      "\u001b[31m#metrics {\"Metrics\": {\"update.time\": {\"count\": 1, \"max\": 1954.5390605926514, \"sum\": 1954.5390605926514, \"min\": 1954.5390605926514}}, \"EndTime\": 1545331249.249207, \"Dimensions\": {\"Host\": \"algo-1\", \"Operation\": \"training\", \"Algorithm\": \"AWS/DeepAR\"}, \"StartTime\": 1545331247.294607}\n",
      "\u001b[0m\n",
      "\u001b[31m[12/20/2018 18:40:49 INFO 140298142705472] #throughput_metric: host=algo-1, train throughput=162.68856195 records/second\u001b[0m\n",
      "\u001b[31m[12/20/2018 18:40:49 INFO 140298142705472] #progress_metric: host=algo-1, completed 20 % of epochs\u001b[0m\n",
      "\u001b[31m[12/20/2018 18:40:49 INFO 140298142705472] best epoch loss so far\u001b[0m\n",
      "\u001b[31m[12/20/2018 18:40:49 INFO 140298142705472] Saved checkpoint to \"/opt/ml/model/state_204ba942-efab-447e-9d97-fe52317971f7-0000.params\"\u001b[0m\n",
      "\u001b[31m#metrics {\"Metrics\": {\"state.serialize.time\": {\"count\": 1, \"max\": 60.61816215515137, \"sum\": 60.61816215515137, \"min\": 60.61816215515137}}, \"EndTime\": 1545331249.310282, \"Dimensions\": {\"Host\": \"algo-1\", \"Operation\": \"training\", \"Algorithm\": \"AWS/DeepAR\"}, \"StartTime\": 1545331249.249286}\n",
      "\u001b[0m\n",
      "\u001b[31m[12/20/2018 18:40:49 INFO 140298142705472] Epoch[4] Batch[0] avg_epoch_loss=2.792855\u001b[0m\n",
      "\n",
      "2018-12-20 18:40:33 Training - Training image download completed. Training in progress.\u001b[31m[12/20/2018 18:40:50 INFO 140298142705472] Epoch[4] Batch[5] avg_epoch_loss=2.759955\u001b[0m\n",
      "\u001b[31m[12/20/2018 18:40:50 INFO 140298142705472] Epoch[4] Batch [5]#011Speed: 186.49 samples/sec#011loss=2.759955\u001b[0m\n",
      "\u001b[31m[12/20/2018 18:40:51 INFO 140298142705472] processed a total of 314 examples\u001b[0m\n",
      "\u001b[31m#metrics {\"Metrics\": {\"update.time\": {\"count\": 1, \"max\": 1933.6261749267578, \"sum\": 1933.6261749267578, \"min\": 1933.6261749267578}}, \"EndTime\": 1545331251.244037, \"Dimensions\": {\"Host\": \"algo-1\", \"Operation\": \"training\", \"Algorithm\": \"AWS/DeepAR\"}, \"StartTime\": 1545331249.31035}\n",
      "\u001b[0m\n",
      "\u001b[31m[12/20/2018 18:40:51 INFO 140298142705472] #throughput_metric: host=algo-1, train throughput=162.381227365 records/second\u001b[0m\n",
      "\u001b[31m[12/20/2018 18:40:51 INFO 140298142705472] #progress_metric: host=algo-1, completed 25 % of epochs\u001b[0m\n",
      "\u001b[31m[12/20/2018 18:40:51 INFO 140298142705472] best epoch loss so far\u001b[0m\n",
      "\u001b[31m[12/20/2018 18:40:51 INFO 140298142705472] Saved checkpoint to \"/opt/ml/model/state_cffd6e8f-214e-4699-8ba5-6c88429be777-0000.params\"\u001b[0m\n",
      "\u001b[31m#metrics {\"Metrics\": {\"state.serialize.time\": {\"count\": 1, \"max\": 53.29298973083496, \"sum\": 53.29298973083496, \"min\": 53.29298973083496}}, \"EndTime\": 1545331251.297777, \"Dimensions\": {\"Host\": \"algo-1\", \"Operation\": \"training\", \"Algorithm\": \"AWS/DeepAR\"}, \"StartTime\": 1545331251.244096}\n",
      "\u001b[0m\n",
      "\u001b[31m[12/20/2018 18:40:51 INFO 140298142705472] Epoch[5] Batch[0] avg_epoch_loss=2.670041\u001b[0m\n",
      "\u001b[31m[12/20/2018 18:40:52 INFO 140298142705472] Epoch[5] Batch[5] avg_epoch_loss=2.647274\u001b[0m\n",
      "\u001b[31m[12/20/2018 18:40:52 INFO 140298142705472] Epoch[5] Batch [5]#011Speed: 191.78 samples/sec#011loss=2.647274\u001b[0m\n",
      "\u001b[31m[12/20/2018 18:40:53 INFO 140298142705472] processed a total of 309 examples\u001b[0m\n",
      "\u001b[31m#metrics {\"Metrics\": {\"update.time\": {\"count\": 1, \"max\": 1928.0261993408203, \"sum\": 1928.0261993408203, \"min\": 1928.0261993408203}}, \"EndTime\": 1545331253.225916, \"Dimensions\": {\"Host\": \"algo-1\", \"Operation\": \"training\", \"Algorithm\": \"AWS/DeepAR\"}, \"StartTime\": 1545331251.297839}\n",
      "\u001b[0m\n",
      "\u001b[31m[12/20/2018 18:40:53 INFO 140298142705472] #throughput_metric: host=algo-1, train throughput=160.25823731 records/second\u001b[0m\n",
      "\u001b[31m[12/20/2018 18:40:53 INFO 140298142705472] #progress_metric: host=algo-1, completed 30 % of epochs\u001b[0m\n",
      "\u001b[31m[12/20/2018 18:40:53 INFO 140298142705472] best epoch loss so far\u001b[0m\n",
      "\u001b[31m[12/20/2018 18:40:53 INFO 140298142705472] Saved checkpoint to \"/opt/ml/model/state_4680fc56-6d9b-4f57-9fd5-2e05515ac9a5-0000.params\"\u001b[0m\n",
      "\u001b[31m#metrics {\"Metrics\": {\"state.serialize.time\": {\"count\": 1, \"max\": 92.28897094726562, \"sum\": 92.28897094726562, \"min\": 92.28897094726562}}, \"EndTime\": 1545331253.318719, \"Dimensions\": {\"Host\": \"algo-1\", \"Operation\": \"training\", \"Algorithm\": \"AWS/DeepAR\"}, \"StartTime\": 1545331253.225992}\n",
      "\u001b[0m\n",
      "\u001b[31m[12/20/2018 18:40:53 INFO 140298142705472] Epoch[6] Batch[0] avg_epoch_loss=2.487321\u001b[0m\n",
      "\u001b[31m[12/20/2018 18:40:54 INFO 140298142705472] Epoch[6] Batch[5] avg_epoch_loss=2.580183\u001b[0m\n",
      "\u001b[31m[12/20/2018 18:40:54 INFO 140298142705472] Epoch[6] Batch [5]#011Speed: 184.56 samples/sec#011loss=2.580183\u001b[0m\n",
      "\u001b[31m[12/20/2018 18:40:55 INFO 140298142705472] Epoch[6] Batch[10] avg_epoch_loss=2.539557\u001b[0m\n",
      "\u001b[31m[12/20/2018 18:40:55 INFO 140298142705472] Epoch[6] Batch [10]#011Speed: 178.90 samples/sec#011loss=2.490806\u001b[0m\n",
      "\u001b[31m[12/20/2018 18:40:55 INFO 140298142705472] processed a total of 334 examples\u001b[0m\n",
      "\u001b[31m#metrics {\"Metrics\": {\"update.time\": {\"count\": 1, \"max\": 2153.0420780181885, \"sum\": 2153.0420780181885, \"min\": 2153.0420780181885}}, \"EndTime\": 1545331255.471894, \"Dimensions\": {\"Host\": \"algo-1\", \"Operation\": \"training\", \"Algorithm\": \"AWS/DeepAR\"}, \"StartTime\": 1545331253.318789}\n",
      "\u001b[0m\n",
      "\u001b[31m[12/20/2018 18:40:55 INFO 140298142705472] #throughput_metric: host=algo-1, train throughput=155.12070137 records/second\u001b[0m\n",
      "\u001b[31m[12/20/2018 18:40:55 INFO 140298142705472] #progress_metric: host=algo-1, completed 35 % of epochs\u001b[0m\n",
      "\u001b[31m[12/20/2018 18:40:55 INFO 140298142705472] best epoch loss so far\u001b[0m\n",
      "\u001b[31m[12/20/2018 18:40:55 INFO 140298142705472] Saved checkpoint to \"/opt/ml/model/state_d070aa78-017f-4822-b14d-273bee9f0c88-0000.params\"\u001b[0m\n",
      "\u001b[31m#metrics {\"Metrics\": {\"state.serialize.time\": {\"count\": 1, \"max\": 55.27997016906738, \"sum\": 55.27997016906738, \"min\": 55.27997016906738}}, \"EndTime\": 1545331255.527676, \"Dimensions\": {\"Host\": \"algo-1\", \"Operation\": \"training\", \"Algorithm\": \"AWS/DeepAR\"}, \"StartTime\": 1545331255.471975}\n",
      "\u001b[0m\n",
      "\u001b[31m[12/20/2018 18:40:55 INFO 140298142705472] Epoch[7] Batch[0] avg_epoch_loss=2.483762\u001b[0m\n",
      "\u001b[31m[12/20/2018 18:40:56 INFO 140298142705472] Epoch[7] Batch[5] avg_epoch_loss=2.484373\u001b[0m\n",
      "\u001b[31m[12/20/2018 18:40:56 INFO 140298142705472] Epoch[7] Batch [5]#011Speed: 187.86 samples/sec#011loss=2.484373\u001b[0m\n",
      "\u001b[31m[12/20/2018 18:40:57 INFO 140298142705472] processed a total of 313 examples\u001b[0m\n",
      "\u001b[31m#metrics {\"Metrics\": {\"update.time\": {\"count\": 1, \"max\": 1909.3358516693115, \"sum\": 1909.3358516693115, \"min\": 1909.3358516693115}}, \"EndTime\": 1545331257.437145, \"Dimensions\": {\"Host\": \"algo-1\", \"Operation\": \"training\", \"Algorithm\": \"AWS/DeepAR\"}, \"StartTime\": 1545331255.527746}\n",
      "\u001b[0m\n",
      "\u001b[31m[12/20/2018 18:40:57 INFO 140298142705472] #throughput_metric: host=algo-1, train throughput=163.922832911 records/second\u001b[0m\n",
      "\u001b[31m[12/20/2018 18:40:57 INFO 140298142705472] #progress_metric: host=algo-1, completed 40 % of epochs\u001b[0m\n",
      "\u001b[31m[12/20/2018 18:40:57 INFO 140298142705472] best epoch loss so far\u001b[0m\n",
      "\u001b[31m[12/20/2018 18:40:57 INFO 140298142705472] Saved checkpoint to \"/opt/ml/model/state_7619c4bb-50cb-467c-a692-c0a404f7e019-0000.params\"\u001b[0m\n",
      "\u001b[31m#metrics {\"Metrics\": {\"state.serialize.time\": {\"count\": 1, \"max\": 61.894893646240234, \"sum\": 61.894893646240234, \"min\": 61.894893646240234}}, \"EndTime\": 1545331257.499544, \"Dimensions\": {\"Host\": \"algo-1\", \"Operation\": \"training\", \"Algorithm\": \"AWS/DeepAR\"}, \"StartTime\": 1545331257.437208}\n",
      "\u001b[0m\n",
      "\u001b[31m[12/20/2018 18:40:57 INFO 140298142705472] Epoch[8] Batch[0] avg_epoch_loss=2.347999\u001b[0m\n",
      "\u001b[31m[12/20/2018 18:40:58 INFO 140298142705472] Epoch[8] Batch[5] avg_epoch_loss=2.364597\u001b[0m\n",
      "\u001b[31m[12/20/2018 18:40:58 INFO 140298142705472] Epoch[8] Batch [5]#011Speed: 185.82 samples/sec#011loss=2.364597\u001b[0m\n",
      "\u001b[31m[12/20/2018 18:40:59 INFO 140298142705472] processed a total of 291 examples\u001b[0m\n",
      "\u001b[31m#metrics {\"Metrics\": {\"update.time\": {\"count\": 1, \"max\": 1938.4620189666748, \"sum\": 1938.4620189666748, \"min\": 1938.4620189666748}}, \"EndTime\": 1545331259.438133, \"Dimensions\": {\"Host\": \"algo-1\", \"Operation\": \"training\", \"Algorithm\": \"AWS/DeepAR\"}, \"StartTime\": 1545331257.499613}\n",
      "\u001b[0m\n",
      "\u001b[31m[12/20/2018 18:40:59 INFO 140298142705472] #throughput_metric: host=algo-1, train throughput=150.111422215 records/second\u001b[0m\n",
      "\u001b[31m[12/20/2018 18:40:59 INFO 140298142705472] #progress_metric: host=algo-1, completed 45 % of epochs\u001b[0m\n",
      "\u001b[31m[12/20/2018 18:40:59 INFO 140298142705472] best epoch loss so far\u001b[0m\n",
      "\u001b[31m[12/20/2018 18:40:59 INFO 140298142705472] Saved checkpoint to \"/opt/ml/model/state_e7529846-e27d-4cd0-a651-207341a07002-0000.params\"\u001b[0m\n",
      "\u001b[31m#metrics {\"Metrics\": {\"state.serialize.time\": {\"count\": 1, \"max\": 55.114030838012695, \"sum\": 55.114030838012695, \"min\": 55.114030838012695}}, \"EndTime\": 1545331259.493731, \"Dimensions\": {\"Host\": \"algo-1\", \"Operation\": \"training\", \"Algorithm\": \"AWS/DeepAR\"}, \"StartTime\": 1545331259.438196}\n",
      "\u001b[0m\n",
      "\u001b[31m[12/20/2018 18:40:59 INFO 140298142705472] Epoch[9] Batch[0] avg_epoch_loss=2.942841\u001b[0m\n",
      "\u001b[31m[12/20/2018 18:41:00 INFO 140298142705472] Epoch[9] Batch[5] avg_epoch_loss=2.586389\u001b[0m\n",
      "\u001b[31m[12/20/2018 18:41:00 INFO 140298142705472] Epoch[9] Batch [5]#011Speed: 184.36 samples/sec#011loss=2.586389\u001b[0m\n",
      "\u001b[31m[12/20/2018 18:41:01 INFO 140298142705472] processed a total of 294 examples\u001b[0m\n",
      "\u001b[31m#metrics {\"Metrics\": {\"update.time\": {\"count\": 1, \"max\": 1949.5999813079834, \"sum\": 1949.5999813079834, \"min\": 1949.5999813079834}}, \"EndTime\": 1545331261.443468, \"Dimensions\": {\"Host\": \"algo-1\", \"Operation\": \"training\", \"Algorithm\": \"AWS/DeepAR\"}, \"StartTime\": 1545331259.493808}\n",
      "\u001b[0m\n",
      "\u001b[31m[12/20/2018 18:41:01 INFO 140298142705472] #throughput_metric: host=algo-1, train throughput=150.791037589 records/second\u001b[0m\n",
      "\u001b[31m[12/20/2018 18:41:01 INFO 140298142705472] #progress_metric: host=algo-1, completed 50 % of epochs\u001b[0m\n",
      "\u001b[31m[12/20/2018 18:41:01 INFO 140298142705472] loss did not improve\u001b[0m\n",
      "\u001b[31m[12/20/2018 18:41:01 INFO 140298142705472] Epoch[10] Batch[0] avg_epoch_loss=2.556253\u001b[0m\n",
      "\u001b[31m[12/20/2018 18:41:02 INFO 140298142705472] Epoch[10] Batch[5] avg_epoch_loss=2.398632\u001b[0m\n",
      "\u001b[31m[12/20/2018 18:41:02 INFO 140298142705472] Epoch[10] Batch [5]#011Speed: 186.41 samples/sec#011loss=2.398632\u001b[0m\n",
      "\u001b[31m[12/20/2018 18:41:03 INFO 140298142705472] processed a total of 291 examples\u001b[0m\n",
      "\u001b[31m#metrics {\"Metrics\": {\"update.time\": {\"count\": 1, \"max\": 1943.6509609222412, \"sum\": 1943.6509609222412, \"min\": 1943.6509609222412}}, \"EndTime\": 1545331263.3876, \"Dimensions\": {\"Host\": \"algo-1\", \"Operation\": \"training\", \"Algorithm\": \"AWS/DeepAR\"}, \"StartTime\": 1545331261.443548}\n",
      "\u001b[0m\n",
      "\u001b[31m[12/20/2018 18:41:03 INFO 140298142705472] #throughput_metric: host=algo-1, train throughput=149.710140832 records/second\u001b[0m\n",
      "\u001b[31m[12/20/2018 18:41:03 INFO 140298142705472] #progress_metric: host=algo-1, completed 55 % of epochs\u001b[0m\n",
      "\u001b[31m[12/20/2018 18:41:03 INFO 140298142705472] loss did not improve\u001b[0m\n",
      "\u001b[31m[12/20/2018 18:41:03 INFO 140298142705472] Epoch[11] Batch[0] avg_epoch_loss=2.353974\u001b[0m\n",
      "\u001b[31m[12/20/2018 18:41:04 INFO 140298142705472] Epoch[11] Batch[5] avg_epoch_loss=2.349023\u001b[0m\n",
      "\u001b[31m[12/20/2018 18:41:04 INFO 140298142705472] Epoch[11] Batch [5]#011Speed: 180.16 samples/sec#011loss=2.349023\u001b[0m\n",
      "\u001b[31m[12/20/2018 18:41:05 INFO 140298142705472] processed a total of 309 examples\u001b[0m\n",
      "\u001b[31m#metrics {\"Metrics\": {\"update.time\": {\"count\": 1, \"max\": 2001.6100406646729, \"sum\": 2001.6100406646729, \"min\": 2001.6100406646729}}, \"EndTime\": 1545331265.389591, \"Dimensions\": {\"Host\": \"algo-1\", \"Operation\": \"training\", \"Algorithm\": \"AWS/DeepAR\"}, \"StartTime\": 1545331263.387671}\n",
      "\u001b[0m\n",
      "\u001b[31m[12/20/2018 18:41:05 INFO 140298142705472] #throughput_metric: host=algo-1, train throughput=154.366549228 records/second\u001b[0m\n",
      "\u001b[31m[12/20/2018 18:41:05 INFO 140298142705472] #progress_metric: host=algo-1, completed 60 % of epochs\u001b[0m\n",
      "\u001b[31m[12/20/2018 18:41:05 INFO 140298142705472] best epoch loss so far\u001b[0m\n",
      "\u001b[31m[12/20/2018 18:41:05 INFO 140298142705472] Saved checkpoint to \"/opt/ml/model/state_291f28ac-bc80-4790-a618-b1033edaeabc-0000.params\"\u001b[0m\n",
      "\u001b[31m#metrics {\"Metrics\": {\"state.serialize.time\": {\"count\": 1, \"max\": 56.5180778503418, \"sum\": 56.5180778503418, \"min\": 56.5180778503418}}, \"EndTime\": 1545331265.446589, \"Dimensions\": {\"Host\": \"algo-1\", \"Operation\": \"training\", \"Algorithm\": \"AWS/DeepAR\"}, \"StartTime\": 1545331265.389673}\n",
      "\u001b[0m\n",
      "\u001b[31m[12/20/2018 18:41:05 INFO 140298142705472] Epoch[12] Batch[0] avg_epoch_loss=2.221393\u001b[0m\n",
      "\u001b[31m[12/20/2018 18:41:06 INFO 140298142705472] Epoch[12] Batch[5] avg_epoch_loss=2.186686\u001b[0m\n",
      "\u001b[31m[12/20/2018 18:41:06 INFO 140298142705472] Epoch[12] Batch [5]#011Speed: 187.17 samples/sec#011loss=2.186686\u001b[0m\n",
      "\u001b[31m[12/20/2018 18:41:07 INFO 140298142705472] processed a total of 315 examples\u001b[0m\n",
      "\u001b[31m#metrics {\"Metrics\": {\"update.time\": {\"count\": 1, \"max\": 1890.9111022949219, \"sum\": 1890.9111022949219, \"min\": 1890.9111022949219}}, \"EndTime\": 1545331267.33762, \"Dimensions\": {\"Host\": \"algo-1\", \"Operation\": \"training\", \"Algorithm\": \"AWS/DeepAR\"}, \"StartTime\": 1545331265.446657}\n",
      "\u001b[0m\n",
      "\u001b[31m[12/20/2018 18:41:07 INFO 140298142705472] #throughput_metric: host=algo-1, train throughput=166.576153792 records/second\u001b[0m\n",
      "\u001b[31m[12/20/2018 18:41:07 INFO 140298142705472] #progress_metric: host=algo-1, completed 65 % of epochs\u001b[0m\n",
      "\u001b[31m[12/20/2018 18:41:07 INFO 140298142705472] best epoch loss so far\u001b[0m\n",
      "\u001b[31m[12/20/2018 18:41:07 INFO 140298142705472] Saved checkpoint to \"/opt/ml/model/state_5be456f4-dfe9-462c-a8b7-d873d0aa19cc-0000.params\"\u001b[0m\n",
      "\u001b[31m#metrics {\"Metrics\": {\"state.serialize.time\": {\"count\": 1, \"max\": 54.12101745605469, \"sum\": 54.12101745605469, \"min\": 54.12101745605469}}, \"EndTime\": 1545331267.392205, \"Dimensions\": {\"Host\": \"algo-1\", \"Operation\": \"training\", \"Algorithm\": \"AWS/DeepAR\"}, \"StartTime\": 1545331267.337701}\n",
      "\u001b[0m\n",
      "\u001b[31m[12/20/2018 18:41:07 INFO 140298142705472] Epoch[13] Batch[0] avg_epoch_loss=2.175013\u001b[0m\n",
      "\u001b[31m[12/20/2018 18:41:08 INFO 140298142705472] Epoch[13] Batch[5] avg_epoch_loss=2.143348\u001b[0m\n",
      "\u001b[31m[12/20/2018 18:41:08 INFO 140298142705472] Epoch[13] Batch [5]#011Speed: 182.08 samples/sec#011loss=2.143348\u001b[0m\n",
      "\u001b[31m[12/20/2018 18:41:09 INFO 140298142705472] processed a total of 316 examples\u001b[0m\n",
      "\u001b[31m#metrics {\"Metrics\": {\"update.time\": {\"count\": 1, \"max\": 1948.2769966125488, \"sum\": 1948.2769966125488, \"min\": 1948.2769966125488}}, \"EndTime\": 1545331269.340596, \"Dimensions\": {\"Host\": \"algo-1\", \"Operation\": \"training\", \"Algorithm\": \"AWS/DeepAR\"}, \"StartTime\": 1545331267.392265}\n",
      "\u001b[0m\n",
      "\u001b[31m[12/20/2018 18:41:09 INFO 140298142705472] #throughput_metric: host=algo-1, train throughput=162.185029444 records/second\u001b[0m\n",
      "\u001b[31m[12/20/2018 18:41:09 INFO 140298142705472] #progress_metric: host=algo-1, completed 70 % of epochs\u001b[0m\n",
      "\u001b[31m[12/20/2018 18:41:09 INFO 140298142705472] best epoch loss so far\u001b[0m\n",
      "\u001b[31m[12/20/2018 18:41:09 INFO 140298142705472] Saved checkpoint to \"/opt/ml/model/state_2d592dbd-9bd8-402c-b4c3-f14a52b850e1-0000.params\"\u001b[0m\n",
      "\u001b[31m#metrics {\"Metrics\": {\"state.serialize.time\": {\"count\": 1, \"max\": 60.021162033081055, \"sum\": 60.021162033081055, \"min\": 60.021162033081055}}, \"EndTime\": 1545331269.401057, \"Dimensions\": {\"Host\": \"algo-1\", \"Operation\": \"training\", \"Algorithm\": \"AWS/DeepAR\"}, \"StartTime\": 1545331269.340675}\n",
      "\u001b[0m\n",
      "\u001b[31m[12/20/2018 18:41:09 INFO 140298142705472] Epoch[14] Batch[0] avg_epoch_loss=2.063616\u001b[0m\n",
      "\u001b[31m[12/20/2018 18:41:10 INFO 140298142705472] Epoch[14] Batch[5] avg_epoch_loss=2.048186\u001b[0m\n",
      "\u001b[31m[12/20/2018 18:41:10 INFO 140298142705472] Epoch[14] Batch [5]#011Speed: 180.44 samples/sec#011loss=2.048186\u001b[0m\n",
      "\u001b[31m[12/20/2018 18:41:11 INFO 140298142705472] Epoch[14] Batch[10] avg_epoch_loss=2.043204\u001b[0m\n",
      "\u001b[31m[12/20/2018 18:41:11 INFO 140298142705472] Epoch[14] Batch [10]#011Speed: 185.30 samples/sec#011loss=2.037225\u001b[0m\n",
      "\u001b[31m[12/20/2018 18:41:11 INFO 140298142705472] processed a total of 337 examples\u001b[0m\n",
      "\u001b[31m#metrics {\"Metrics\": {\"update.time\": {\"count\": 1, \"max\": 2131.6978931427, \"sum\": 2131.6978931427, \"min\": 2131.6978931427}}, \"EndTime\": 1545331271.53288, \"Dimensions\": {\"Host\": \"algo-1\", \"Operation\": \"training\", \"Algorithm\": \"AWS/DeepAR\"}, \"StartTime\": 1545331269.401124}\n",
      "\u001b[0m\n",
      "\u001b[31m[12/20/2018 18:41:11 INFO 140298142705472] #throughput_metric: host=algo-1, train throughput=158.082588586 records/second\u001b[0m\n",
      "\u001b[31m[12/20/2018 18:41:11 INFO 140298142705472] #progress_metric: host=algo-1, completed 75 % of epochs\u001b[0m\n",
      "\u001b[31m[12/20/2018 18:41:11 INFO 140298142705472] best epoch loss so far\u001b[0m\n",
      "\u001b[31m[12/20/2018 18:41:11 INFO 140298142705472] Saved checkpoint to \"/opt/ml/model/state_58c67130-05fa-4133-9ea2-b52a2f8133f4-0000.params\"\u001b[0m\n",
      "\u001b[31m#metrics {\"Metrics\": {\"state.serialize.time\": {\"count\": 1, \"max\": 57.21116065979004, \"sum\": 57.21116065979004, \"min\": 57.21116065979004}}, \"EndTime\": 1545331271.590491, \"Dimensions\": {\"Host\": \"algo-1\", \"Operation\": \"training\", \"Algorithm\": \"AWS/DeepAR\"}, \"StartTime\": 1545331271.532946}\n",
      "\u001b[0m\n",
      "\u001b[31m[12/20/2018 18:41:11 INFO 140298142705472] Epoch[15] Batch[0] avg_epoch_loss=1.988896\u001b[0m\n",
      "\u001b[31m[12/20/2018 18:41:12 INFO 140298142705472] Epoch[15] Batch[5] avg_epoch_loss=2.020492\u001b[0m\n",
      "\u001b[31m[12/20/2018 18:41:12 INFO 140298142705472] Epoch[15] Batch [5]#011Speed: 180.05 samples/sec#011loss=2.020492\u001b[0m\n",
      "\u001b[31m[12/20/2018 18:41:13 INFO 140298142705472] processed a total of 296 examples\u001b[0m\n",
      "\u001b[31m#metrics {\"Metrics\": {\"update.time\": {\"count\": 1, \"max\": 1939.3820762634277, \"sum\": 1939.3820762634277, \"min\": 1939.3820762634277}}, \"EndTime\": 1545331273.530051, \"Dimensions\": {\"Host\": \"algo-1\", \"Operation\": \"training\", \"Algorithm\": \"AWS/DeepAR\"}, \"StartTime\": 1545331271.590565}\n",
      "\u001b[0m\n",
      "\u001b[31m[12/20/2018 18:41:13 INFO 140298142705472] #throughput_metric: host=algo-1, train throughput=152.615239373 records/second\u001b[0m\n",
      "\u001b[31m[12/20/2018 18:41:13 INFO 140298142705472] #progress_metric: host=algo-1, completed 80 % of epochs\u001b[0m\n",
      "\u001b[31m[12/20/2018 18:41:13 INFO 140298142705472] best epoch loss so far\u001b[0m\n",
      "\u001b[31m[12/20/2018 18:41:13 INFO 140298142705472] Saved checkpoint to \"/opt/ml/model/state_7fce8949-b9cc-4a5d-a295-31da626ec77e-0000.params\"\u001b[0m\n",
      "\u001b[31m#metrics {\"Metrics\": {\"state.serialize.time\": {\"count\": 1, \"max\": 55.38010597229004, \"sum\": 55.38010597229004, \"min\": 55.38010597229004}}, \"EndTime\": 1545331273.585825, \"Dimensions\": {\"Host\": \"algo-1\", \"Operation\": \"training\", \"Algorithm\": \"AWS/DeepAR\"}, \"StartTime\": 1545331273.530107}\n",
      "\u001b[0m\n",
      "\u001b[31m[12/20/2018 18:41:13 INFO 140298142705472] Epoch[16] Batch[0] avg_epoch_loss=1.979303\u001b[0m\n",
      "\u001b[31m[12/20/2018 18:41:14 INFO 140298142705472] Epoch[16] Batch[5] avg_epoch_loss=1.972373\u001b[0m\n",
      "\u001b[31m[12/20/2018 18:41:14 INFO 140298142705472] Epoch[16] Batch [5]#011Speed: 177.63 samples/sec#011loss=1.972373\u001b[0m\n",
      "\u001b[31m[12/20/2018 18:41:15 INFO 140298142705472] Epoch[16] Batch[10] avg_epoch_loss=1.975678\u001b[0m\n",
      "\u001b[31m[12/20/2018 18:41:15 INFO 140298142705472] Epoch[16] Batch [10]#011Speed: 179.15 samples/sec#011loss=1.979643\u001b[0m\n",
      "\u001b[31m[12/20/2018 18:41:15 INFO 140298142705472] processed a total of 339 examples\u001b[0m\n",
      "\u001b[31m#metrics {\"Metrics\": {\"update.time\": {\"count\": 1, \"max\": 2173.996925354004, \"sum\": 2173.996925354004, \"min\": 2173.996925354004}}, \"EndTime\": 1545331275.759944, \"Dimensions\": {\"Host\": \"algo-1\", \"Operation\": \"training\", \"Algorithm\": \"AWS/DeepAR\"}, \"StartTime\": 1545331273.585893}\n",
      "\u001b[0m\n",
      "\u001b[31m[12/20/2018 18:41:15 INFO 140298142705472] #throughput_metric: host=algo-1, train throughput=155.926014517 records/second\u001b[0m\n",
      "\u001b[31m[12/20/2018 18:41:15 INFO 140298142705472] #progress_metric: host=algo-1, completed 85 % of epochs\u001b[0m\n",
      "\u001b[31m[12/20/2018 18:41:15 INFO 140298142705472] best epoch loss so far\u001b[0m\n",
      "\u001b[31m[12/20/2018 18:41:15 INFO 140298142705472] Saved checkpoint to \"/opt/ml/model/state_066fed11-54f0-4d17-90f2-138fb1d14ffd-0000.params\"\u001b[0m\n",
      "\u001b[31m#metrics {\"Metrics\": {\"state.serialize.time\": {\"count\": 1, \"max\": 54.52394485473633, \"sum\": 54.52394485473633, \"min\": 54.52394485473633}}, \"EndTime\": 1545331275.814974, \"Dimensions\": {\"Host\": \"algo-1\", \"Operation\": \"training\", \"Algorithm\": \"AWS/DeepAR\"}, \"StartTime\": 1545331275.760017}\n",
      "\u001b[0m\n",
      "\u001b[31m[12/20/2018 18:41:16 INFO 140298142705472] Epoch[17] Batch[0] avg_epoch_loss=1.950540\u001b[0m\n",
      "\u001b[31m[12/20/2018 18:41:17 INFO 140298142705472] Epoch[17] Batch[5] avg_epoch_loss=1.923974\u001b[0m\n",
      "\u001b[31m[12/20/2018 18:41:17 INFO 140298142705472] Epoch[17] Batch [5]#011Speed: 175.32 samples/sec#011loss=1.923974\u001b[0m\n",
      "\u001b[31m[12/20/2018 18:41:17 INFO 140298142705472] Epoch[17] Batch[10] avg_epoch_loss=1.938442\u001b[0m\n",
      "\u001b[31m[12/20/2018 18:41:17 INFO 140298142705472] Epoch[17] Batch [10]#011Speed: 188.34 samples/sec#011loss=1.955803\u001b[0m\n",
      "\u001b[31m[12/20/2018 18:41:18 INFO 140298142705472] processed a total of 367 examples\u001b[0m\n",
      "\u001b[31m#metrics {\"Metrics\": {\"update.time\": {\"count\": 1, \"max\": 2329.442024230957, \"sum\": 2329.442024230957, \"min\": 2329.442024230957}}, \"EndTime\": 1545331278.14455, \"Dimensions\": {\"Host\": \"algo-1\", \"Operation\": \"training\", \"Algorithm\": \"AWS/DeepAR\"}, \"StartTime\": 1545331275.815049}\n",
      "\u001b[0m\n",
      "\u001b[31m[12/20/2018 18:41:18 INFO 140298142705472] #throughput_metric: host=algo-1, train throughput=157.541234752 records/second\u001b[0m\n",
      "\u001b[31m[12/20/2018 18:41:18 INFO 140298142705472] #progress_metric: host=algo-1, completed 90 % of epochs\u001b[0m\n",
      "\u001b[31m[12/20/2018 18:41:18 INFO 140298142705472] best epoch loss so far\u001b[0m\n",
      "\u001b[31m[12/20/2018 18:41:18 INFO 140298142705472] Saved checkpoint to \"/opt/ml/model/state_6f9c3e87-7208-4360-9903-e9ed32bc22da-0000.params\"\u001b[0m\n",
      "\u001b[31m#metrics {\"Metrics\": {\"state.serialize.time\": {\"count\": 1, \"max\": 57.86609649658203, \"sum\": 57.86609649658203, \"min\": 57.86609649658203}}, \"EndTime\": 1545331278.202837, \"Dimensions\": {\"Host\": \"algo-1\", \"Operation\": \"training\", \"Algorithm\": \"AWS/DeepAR\"}, \"StartTime\": 1545331278.144621}\n",
      "\u001b[0m\n",
      "\u001b[31m[12/20/2018 18:41:18 INFO 140298142705472] Epoch[18] Batch[0] avg_epoch_loss=2.003250\u001b[0m\n",
      "\u001b[31m[12/20/2018 18:41:19 INFO 140298142705472] Epoch[18] Batch[5] avg_epoch_loss=1.998389\u001b[0m\n",
      "\u001b[31m[12/20/2018 18:41:19 INFO 140298142705472] Epoch[18] Batch [5]#011Speed: 187.27 samples/sec#011loss=1.998389\u001b[0m\n",
      "\u001b[31m[12/20/2018 18:41:20 INFO 140298142705472] processed a total of 315 examples\u001b[0m\n",
      "\u001b[31m#metrics {\"Metrics\": {\"update.time\": {\"count\": 1, \"max\": 1913.9230251312256, \"sum\": 1913.9230251312256, \"min\": 1913.9230251312256}}, \"EndTime\": 1545331280.116905, \"Dimensions\": {\"Host\": \"algo-1\", \"Operation\": \"training\", \"Algorithm\": \"AWS/DeepAR\"}, \"StartTime\": 1545331278.202903}\n",
      "\u001b[0m\n",
      "\u001b[31m[12/20/2018 18:41:20 INFO 140298142705472] #throughput_metric: host=algo-1, train throughput=164.571818059 records/second\u001b[0m\n",
      "\u001b[31m[12/20/2018 18:41:20 INFO 140298142705472] #progress_metric: host=algo-1, completed 95 % of epochs\u001b[0m\n",
      "\u001b[31m[12/20/2018 18:41:20 INFO 140298142705472] loss did not improve\u001b[0m\n",
      "\n",
      "2018-12-20 18:41:29 Uploading - Uploading generated training model\u001b[31m[12/20/2018 18:41:20 INFO 140298142705472] Epoch[19] Batch[0] avg_epoch_loss=1.845797\u001b[0m\n",
      "\u001b[31m[12/20/2018 18:41:21 INFO 140298142705472] Epoch[19] Batch[5] avg_epoch_loss=1.950067\u001b[0m\n",
      "\u001b[31m[12/20/2018 18:41:21 INFO 140298142705472] Epoch[19] Batch [5]#011Speed: 175.21 samples/sec#011loss=1.950067\u001b[0m\n",
      "\u001b[31m[12/20/2018 18:41:22 INFO 140298142705472] processed a total of 302 examples\u001b[0m\n",
      "\u001b[31m#metrics {\"Metrics\": {\"update.time\": {\"count\": 1, \"max\": 2016.2339210510254, \"sum\": 2016.2339210510254, \"min\": 2016.2339210510254}}, \"EndTime\": 1545331282.133578, \"Dimensions\": {\"Host\": \"algo-1\", \"Operation\": \"training\", \"Algorithm\": \"AWS/DeepAR\"}, \"StartTime\": 1545331280.116983}\n",
      "\u001b[0m\n",
      "\u001b[31m[12/20/2018 18:41:22 INFO 140298142705472] #throughput_metric: host=algo-1, train throughput=149.775511461 records/second\u001b[0m\n",
      "\u001b[31m[12/20/2018 18:41:22 INFO 140298142705472] #progress_metric: host=algo-1, completed 100 % of epochs\u001b[0m\n",
      "\u001b[31m[12/20/2018 18:41:22 INFO 140298142705472] loss did not improve\u001b[0m\n",
      "\u001b[31m[12/20/2018 18:41:22 INFO 140298142705472] Final loss: 1.92499390244 (occurred at epoch 17)\u001b[0m\n",
      "\u001b[31m[12/20/2018 18:41:22 INFO 140298142705472] #quality_metric: host=algo-1, train final_loss <loss>=1.92499390244\u001b[0m\n",
      "\u001b[31m[12/20/2018 18:41:22 INFO 140298142705472] Worker algo-1 finished training.\u001b[0m\n",
      "\u001b[31m[12/20/2018 18:41:22 WARNING 140298142705472] wait_for_all_workers will not sync workers since the kv store is not running distributed\u001b[0m\n",
      "\u001b[31m[12/20/2018 18:41:22 INFO 140298142705472] All workers finished. Serializing model for prediction.\u001b[0m\n",
      "\u001b[31m#metrics {\"Metrics\": {\"get_graph.time\": {\"count\": 1, \"max\": 4859.77578163147, \"sum\": 4859.77578163147, \"min\": 4859.77578163147}}, \"EndTime\": 1545331286.994152, \"Dimensions\": {\"Host\": \"algo-1\", \"Operation\": \"training\", \"Algorithm\": \"AWS/DeepAR\"}, \"StartTime\": 1545331282.133657}\n",
      "\u001b[0m\n",
      "\u001b[31m[12/20/2018 18:41:27 INFO 140298142705472] Number of GPUs being used: 0\u001b[0m\n",
      "\u001b[31m#metrics {\"Metrics\": {\"finalize.time\": {\"count\": 1, \"max\": 5112.918853759766, \"sum\": 5112.918853759766, \"min\": 5112.918853759766}}, \"EndTime\": 1545331287.247259, \"Dimensions\": {\"Host\": \"algo-1\", \"Operation\": \"training\", \"Algorithm\": \"AWS/DeepAR\"}, \"StartTime\": 1545331286.994298}\n",
      "\u001b[0m\n",
      "\u001b[31m[12/20/2018 18:41:27 INFO 140298142705472] Serializing to /opt/ml/model/model_algo-1\u001b[0m\n",
      "\u001b[31m[12/20/2018 18:41:27 INFO 140298142705472] Saved checkpoint to \"/opt/ml/model/model_algo-1-0000.params\"\u001b[0m\n",
      "\u001b[31m#metrics {\"Metrics\": {\"model.serialize.time\": {\"count\": 1, \"max\": 33.86807441711426, \"sum\": 33.86807441711426, \"min\": 33.86807441711426}}, \"EndTime\": 1545331287.28123, \"Dimensions\": {\"Host\": \"algo-1\", \"Operation\": \"training\", \"Algorithm\": \"AWS/DeepAR\"}, \"StartTime\": 1545331287.247322}\n",
      "\u001b[0m\n",
      "\u001b[31m[12/20/2018 18:41:27 INFO 140298142705472] Successfully serialized the model for prediction.\u001b[0m\n",
      "\u001b[31m[12/20/2018 18:41:27 INFO 140298142705472] Evaluating model accuracy on testset using 100 samples\u001b[0m\n",
      "\u001b[31m#metrics {\"Metrics\": {\"model.bind.time\": {\"count\": 1, \"max\": 0.0400543212890625, \"sum\": 0.0400543212890625, \"min\": 0.0400543212890625}}, \"EndTime\": 1545331287.28202, \"Dimensions\": {\"Host\": \"algo-1\", \"Operation\": \"training\", \"Algorithm\": \"AWS/DeepAR\"}, \"StartTime\": 1545331287.28128}\n",
      "\u001b[0m\n",
      "\u001b[31m#metrics {\"Metrics\": {\"model.score.time\": {\"count\": 1, \"max\": 1346.1852073669434, \"sum\": 1346.1852073669434, \"min\": 1346.1852073669434}}, \"EndTime\": 1545331288.628168, \"Dimensions\": {\"Host\": \"algo-1\", \"Operation\": \"training\", \"Algorithm\": \"AWS/DeepAR\"}, \"StartTime\": 1545331287.282081}\n",
      "\u001b[0m\n",
      "\u001b[31m[12/20/2018 18:41:28 INFO 140298142705472] #test_score (algo-1, RMSE): 5.03561325899\u001b[0m\n",
      "\u001b[31m[12/20/2018 18:41:28 INFO 140298142705472] #test_score (algo-1, mean_wQuantileLoss): 0.178102\u001b[0m\n",
      "\u001b[31m[12/20/2018 18:41:28 INFO 140298142705472] #test_score (algo-1, wQuantileLoss[0.1]): 0.0584359\u001b[0m\n",
      "\u001b[31m[12/20/2018 18:41:28 INFO 140298142705472] #test_score (algo-1, wQuantileLoss[0.2]): 0.105344\u001b[0m\n",
      "\u001b[31m[12/20/2018 18:41:28 INFO 140298142705472] #test_score (algo-1, wQuantileLoss[0.3]): 0.142891\u001b[0m\n",
      "\u001b[31m[12/20/2018 18:41:28 INFO 140298142705472] #test_score (algo-1, wQuantileLoss[0.4]): 0.17438\u001b[0m\n",
      "\u001b[31m[12/20/2018 18:41:28 INFO 140298142705472] #test_score (algo-1, wQuantileLoss[0.5]): 0.199451\u001b[0m\n",
      "\u001b[31m[12/20/2018 18:41:28 INFO 140298142705472] #test_score (algo-1, wQuantileLoss[0.6]): 0.219181\u001b[0m\n",
      "\u001b[31m[12/20/2018 18:41:28 INFO 140298142705472] #test_score (algo-1, wQuantileLoss[0.7]): 0.235629\u001b[0m\n",
      "\u001b[31m[12/20/2018 18:41:28 INFO 140298142705472] #test_score (algo-1, wQuantileLoss[0.8]): 0.242049\u001b[0m\n",
      "\u001b[31m[12/20/2018 18:41:28 INFO 140298142705472] #test_score (algo-1, wQuantileLoss[0.9]): 0.225559\u001b[0m\n",
      "\u001b[31m[12/20/2018 18:41:28 INFO 140298142705472] #quality_metric: host=algo-1, test RMSE <loss>=5.03561325899\u001b[0m\n",
      "\u001b[31m[12/20/2018 18:41:28 INFO 140298142705472] #quality_metric: host=algo-1, test mean_wQuantileLoss <loss>=0.178102344275\u001b[0m\n",
      "\u001b[31m#metrics {\"Metrics\": {\"totaltime\": {\"count\": 1, \"max\": 52729.35485839844, \"sum\": 52729.35485839844, \"min\": 52729.35485839844}, \"setuptime\": {\"count\": 1, \"max\": 17.452001571655273, \"sum\": 17.452001571655273, \"min\": 17.452001571655273}}, \"EndTime\": 1545331288.710032, \"Dimensions\": {\"Host\": \"algo-1\", \"Operation\": \"training\", \"Algorithm\": \"AWS/DeepAR\"}, \"StartTime\": 1545331288.628249}\n",
      "\u001b[0m\n",
      "\n",
      "2018-12-20 18:41:36 Completed - Training job completed\n",
      "Billable seconds: 111\n"
     ]
    }
   ],
   "source": [
    "data_channels = {\n",
    "    \"train\": \"s3://{}/train/\".format(s3_data_path),\n",
    "    \"test\": \"s3://{}/test/\".format(s3_data_path)\n",
    "}\n",
    "\n",
    "estimator.fit(inputs=data_channels)"
   ]
  },
  {
   "cell_type": "markdown",
   "metadata": {},
   "source": [
    "## DEPLOY MODEL"
   ]
  },
  {
   "cell_type": "code",
   "execution_count": 37,
   "metadata": {},
   "outputs": [
    {
     "name": "stderr",
     "output_type": "stream",
     "text": [
      "INFO:sagemaker:Creating model with name: Temprature-deepar-2018-12-20-18-37-30-894\n",
      "INFO:sagemaker:Creating endpoint-config with name Temprature-deepar-2018-12-20-18-37-30-894\n",
      "INFO:sagemaker:Creating endpoint with name Temprature-deepar-2018-12-20-18-37-30-894\n"
     ]
    },
    {
     "name": "stdout",
     "output_type": "stream",
     "text": [
      "---------------------------------------------------------------!"
     ]
    }
   ],
   "source": [
    "job_name = estimator.latest_training_job.name\n",
    "\n",
    "endpoint_name = sagemaker_session.endpoint_from_job(\n",
    "    job_name=job_name,\n",
    "    initial_instance_count=1,\n",
    "    instance_type='ml.m4.xlarge',\n",
    "    deployment_image=image_name,\n",
    "    role=role\n",
    ")"
   ]
  },
  {
   "cell_type": "markdown",
   "metadata": {},
   "source": [
    "## PREDICTION"
   ]
  },
  {
   "cell_type": "code",
   "execution_count": 38,
   "metadata": {},
   "outputs": [],
   "source": [
    "class DeepARPredictor(sagemaker.predictor.RealTimePredictor):\n",
    "\n",
    "    def set_prediction_parameters(self, freq, prediction_length):\n",
    "        self.freq = freq\n",
    "        self.prediction_length = prediction_length\n",
    "        \n",
    "    def predict(self, ts, cat=None, encoding=\"utf-8\", num_samples=100, quantiles=[\"0.1\", \"0.5\", \"0.9\"]):\n",
    "        prediction_times = [x.index[-1]+1 for x in ts]\n",
    "        req = self.__encode_request(ts, cat, encoding, num_samples, quantiles)\n",
    "        res = super(DeepARPredictor, self).predict(req)\n",
    "        return self.__decode_response(res, prediction_times, encoding)\n",
    "    \n",
    "    def __encode_request(self, ts, cat, encoding, num_samples, quantiles):\n",
    "        instances = [series_to_obj(ts[k], cat[k] if cat else None) for k in range(len(ts))]\n",
    "        configuration = {\"num_samples\": num_samples, \"output_types\": [\"quantiles\"], \"quantiles\": quantiles}\n",
    "        http_request_data = {\"instances\": instances, \"configuration\": configuration}\n",
    "        return json.dumps(http_request_data).encode(encoding)\n",
    "    \n",
    "    def __decode_response(self, response, prediction_times, encoding):\n",
    "        response_data = json.loads(response.decode(encoding))\n",
    "        list_of_df = []\n",
    "        for k in range(len(prediction_times)):\n",
    "            prediction_index = pd.DatetimeIndex(start=prediction_times[k], freq=self.freq, periods=self.prediction_length)\n",
    "            list_of_df.append(pd.DataFrame(data=response_data['predictions'][k]['quantiles'], index=prediction_index))\n",
    "        return list_of_df"
   ]
  },
  {
   "cell_type": "markdown",
   "metadata": {},
   "source": [
    "## PREDICTION AND RESULTS"
   ]
  },
  {
   "cell_type": "code",
   "execution_count": 39,
   "metadata": {},
   "outputs": [],
   "source": [
    "predictor = DeepARPredictor(\n",
    "    endpoint=endpoint_name,\n",
    "    sagemaker_session=sagemaker_session,\n",
    "    content_type=\"application/json\"\n",
    ")\n",
    "predictor.set_prediction_parameters(freq, prediction_length)"
   ]
  },
  {
   "cell_type": "code",
   "execution_count": 40,
   "metadata": {},
   "outputs": [],
   "source": [
    "pred = predictor.predict(time_series_training)\n",
    "actual_data = timeseries"
   ]
  },
  {
   "cell_type": "code",
   "execution_count": 41,
   "metadata": {},
   "outputs": [
    {
     "name": "stdout",
     "output_type": "stream",
     "text": [
      "[                           0.1        0.5        0.9\n",
      "2005-04-03 09:00:00  11.818872  13.527354  14.932798\n",
      "2005-04-03 10:00:00  13.617298  15.594046  16.947283\n",
      "2005-04-03 11:00:00  15.527637  17.445621  19.933735\n",
      "2005-04-03 12:00:00  16.605581  19.022932  21.211796\n",
      "2005-04-03 13:00:00  17.625618  20.130466  22.147966\n",
      "2005-04-03 14:00:00  18.566860  21.043728  24.190502\n",
      "2005-04-03 15:00:00  18.821465  21.148252  24.340752\n",
      "2005-04-03 16:00:00  18.740152  21.074839  23.959711\n",
      "2005-04-03 17:00:00  17.055029  20.203503  23.161938\n",
      "2005-04-03 18:00:00  17.017385  19.199240  21.253321\n",
      "2005-04-03 19:00:00  15.358176  17.683567  19.509041\n",
      "2005-04-03 20:00:00  14.124889  16.163298  18.433353\n",
      "2005-04-03 21:00:00  13.590608  15.528458  17.230806\n",
      "2005-04-03 22:00:00  12.980351  14.883756  16.331640\n",
      "2005-04-03 23:00:00  12.525997  14.399255  16.003204\n",
      "2005-04-04 00:00:00  12.191152  13.894509  15.468498\n",
      "2005-04-04 01:00:00  11.871284  13.644760  15.445626\n",
      "2005-04-04 02:00:00  11.539585  13.132971  14.772670\n",
      "2005-04-04 03:00:00  11.059231  12.839416  14.583848\n",
      "2005-04-04 04:00:00  11.040255  12.414839  14.066079\n",
      "2005-04-04 05:00:00  10.474519  12.058986  13.749940\n",
      "2005-04-04 06:00:00  10.557824  12.145821  13.595408\n",
      "2005-04-04 07:00:00  11.132690  12.411353  14.078208\n",
      "2005-04-04 08:00:00  11.376349  13.444166  14.755080\n",
      "2005-04-04 09:00:00  13.088019  15.382902  16.907606\n",
      "2005-04-04 10:00:00  15.183102  16.878731  18.183619\n",
      "2005-04-04 11:00:00  16.799408  18.543455  21.116186\n",
      "2005-04-04 12:00:00  17.822054  19.685425  21.966299\n",
      "2005-04-04 13:00:00  17.849239  20.481895  23.138090\n",
      "2005-04-04 14:00:00  18.387600  20.738312  22.831964]\n"
     ]
    }
   ],
   "source": [
    "print(pred)"
   ]
  },
  {
   "cell_type": "code",
   "execution_count": 42,
   "metadata": {},
   "outputs": [
    {
     "data": {
      "image/png": "[encoded data removed]",
      "text/plain": [
       "<Figure size 720x360 with 1 Axes>"
      ]
     },
     "metadata": {},
     "output_type": "display_data"
    }
   ],
   "source": [
    "for i in range(len(pred)):\n",
    "    plt.figure(figsize=(10,5))\n",
    "    actual_data[i][-prediction_length-context_length:].plot(label='Actual')\n",
    "    p10 = pred[i]['0.1']\n",
    "    p90 = pred[i]['0.9']\n",
    "    plt.fill_between(p10.index, p10, p90, color='grey', alpha=0.5, label='80% confidence interval')\n",
    "    pred[i]['0.5'].plot(label='Predicted')\n",
    "    pred_df=pd.DataFrame(pred[i]['0.5'])\n",
    "    plt.legend()\n",
    "    plt.show()"
   ]
  },
  {
   "cell_type": "code",
   "execution_count": 47,
   "metadata": {},
   "outputs": [
    {
     "name": "stdout",
     "output_type": "stream",
     "text": [
      "TEST RESULTS:\n",
      "Mean Squared Error Temparature    26.043942\n",
      "dtype: float64\n",
      "Median Absolute Percentage Error 0.23308827534511528\n"
     ]
    }
   ],
   "source": [
    "#Mean Squared Error\n",
    "print(\"TEST RESULTS:\")\n",
    "print(\"Mean Squared Error\",np.mean(np.subtract((air[-prediction_length:]), pred_df)**2))\n",
    "\n",
    "#Median absolute percentage error\n",
    "print(\"Median Absolute Percentage Error\",\n",
    "     np.median(np.abs(np.subtract((air[-prediction_length:]), pred_df)/air[-prediction_length:])))"
   ]
  },
  {
   "cell_type": "code",
   "execution_count": 48,
   "metadata": {},
   "outputs": [
    {
     "name": "stderr",
     "output_type": "stream",
     "text": [
      "INFO:sagemaker:Deleting endpoint with name: Temprature-deepar-2018-12-20-18-37-30-894\n"
     ]
    }
   ],
   "source": [
    "sagemaker_session.delete_endpoint(endpoint_name)"
   ]
  },
  {
   "cell_type": "code",
   "execution_count": null,
   "metadata": {},
   "outputs": [],
   "source": []
  }
 ],
 "metadata": {
  "kernelspec": {
   "display_name": "conda_python3",
   "language": "python",
   "name": "conda_python3"
  },
  "language_info": {
   "codemirror_mode": {
    "name": "ipython",
    "version": 3
   },
   "file_extension": ".py",
   "mimetype": "text/x-python",
   "name": "python",
   "nbconvert_exporter": "python",
   "pygments_lexer": "ipython3",
   "version": "3.6.5"
  }
 },
 "nbformat": 4,
 "nbformat_minor": 2
}
